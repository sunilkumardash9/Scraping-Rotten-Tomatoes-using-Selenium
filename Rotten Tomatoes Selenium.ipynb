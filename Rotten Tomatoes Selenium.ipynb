{
 "cells": [
  {
   "cell_type": "code",
   "execution_count": 1,
   "metadata": {},
   "outputs": [],
   "source": [
    "import pandas as pd\n",
    "from selenium import webdriver\n",
    "from selenium.webdriver.common.keys import Keys\n",
    "from webdriver_manager.chrome import ChromeDriverManager\n",
    "from selenium.webdriver.common.by import By"
   ]
  },
  {
   "cell_type": "code",
   "execution_count": 3,
   "metadata": {},
   "outputs": [
    {
     "name": "stderr",
     "output_type": "stream",
     "text": [
      "\n",
      "\n",
      "====== WebDriver manager ======\n",
      "Current google-chrome version is 100.0.4896\n",
      "Get LATEST chromedriver version for 100.0.4896 google-chrome\n",
      "Trying to download new driver from https://chromedriver.storage.googleapis.com/100.0.4896.60/chromedriver_win32.zip\n",
      "Driver has been saved in cache [C:\\Users\\sunil\\.wdm\\drivers\\chromedriver\\win32\\100.0.4896.60]\n",
      "<ipython-input-3-c026f0c15647>:1: DeprecationWarning: executable_path has been deprecated, please pass in a Service object\n",
      "  driver = webdriver.Chrome(ChromeDriverManager().install())\n"
     ]
    }
   ],
   "source": [
    "driver = webdriver.Chrome(ChromeDriverManager().install())"
   ]
  },
  {
   "cell_type": "code",
   "execution_count": 105,
   "metadata": {},
   "outputs": [],
   "source": [
    "driver.get('https://hoopshype.com/salaries/players/')"
   ]
  },
  {
   "cell_type": "code",
   "execution_count": 106,
   "metadata": {},
   "outputs": [],
   "source": [
    "players = driver.find_elements(By.CLASS_NAME, 'name')\n",
    "salary =  driver.find_elements(By.CLASS_NAME, \"hh-salaries-sorted\")"
   ]
  },
  {
   "cell_type": "code",
   "execution_count": 107,
   "metadata": {},
   "outputs": [],
   "source": [
    "players_list = []\n",
    "for p in range(len(players)):\n",
    "    if players[p].text != '':  \n",
    "        players_list.append(players[p].text)\n",
    "salary_list = []\n",
    "for p in range(len(salary)):\n",
    "   # if salary[p].text != '':  \n",
    "    salary_list.append(salary[p].text)\n",
    "\n"
   ]
  },
  {
   "cell_type": "code",
   "execution_count": 108,
   "metadata": {},
   "outputs": [
    {
     "name": "stdout",
     "output_type": "stream",
     "text": [
      "655\n",
      "655\n"
     ]
    }
   ],
   "source": [
    "print(len(salary_list))\n",
    "print(len(players_list))"
   ]
  },
  {
   "cell_type": "code",
   "execution_count": 92,
   "metadata": {},
   "outputs": [
    {
     "data": {
      "text/plain": [
       "['2021/22',\n",
       " '$45,780,966',\n",
       " '$44,310,840',\n",
       " '$44,310,840',\n",
       " '$44,211,146',\n",
       " '$42,018,900',\n",
       " '$41,180,544',\n",
       " '$39,344,970',\n",
       " '$39,344,900',\n",
       " '$39,344,900',\n",
       " '$39,344,900',\n",
       " '$37,980,720',\n",
       " '$36,016,200',\n",
       " '$35,995,950',\n",
       " '$35,500,000',\n",
       " '$35,361,360',\n",
       " '$35,328,700',\n",
       " '$34,967,442',\n",
       " '$34,844,000',\n",
       " '$33,724,200',\n",
       " '$33,003,936',\n",
       " '$33,003,936',\n",
       " '$32,431,333',\n",
       " '$32,405,817',\n",
       " '$31,650,600',\n",
       " '$31,650,600',\n",
       " '$31,650,600',\n",
       " '$31,579,390',\n",
       " '$31,579,390',\n",
       " '$31,579,390',\n",
       " '$31,258,256',\n",
       " '$30,864,198',\n",
       " '$30,800,000',\n",
       " '$30,013,500',\n",
       " '$29,925,000',\n",
       " '$29,467,800',\n",
       " '$29,467,800',\n",
       " '$28,103,500',\n",
       " '$28,103,500',\n",
       " '$28,103,500',\n",
       " '$28,103,500',\n",
       " '$27,000,000',\n",
       " '$26,984,128',\n",
       " '$26,758,928',\n",
       " '$26,000,000',\n",
       " '$24,026,712',\n",
       " '$24,000,000',\n",
       " '$23,073,234',\n",
       " '$23,000,000',\n",
       " '$21,780,000',\n",
       " '$21,700,000',\n",
       " '$21,306,816',\n",
       " '$21,000,000',\n",
       " '$20,932,143',\n",
       " '$20,475,000',\n",
       " '$20,284,091',\n",
       " '$20,002,500',\n",
       " '$20,000,000',\n",
       " '$19,675,926',\n",
       " '$19,500,000',\n",
       " '$19,348,907',\n",
       " '$18,700,000',\n",
       " '$18,604,651',\n",
       " '$18,603,448',\n",
       " '$18,500,000',\n",
       " '$18,218,818',\n",
       " '$18,125,000',\n",
       " '$18,000,000',\n",
       " '$18,000,000',\n",
       " '$17,905,263',\n",
       " '$17,800,000',\n",
       " '$17,500,000',\n",
       " '$17,400,000',\n",
       " '$17,357,143',\n",
       " '$17,142,857',\n",
       " '$17,142,857',\n",
       " '$17,073,171',\n",
       " '$16,500,000',\n",
       " '$16,409,091',\n",
       " '$16,071,429',\n",
       " '$16,000,000',\n",
       " '$16,000,000',\n",
       " '$15,690,909',\n",
       " '$15,678,571',\n",
       " '$15,650,000',\n",
       " '$15,627,907',\n",
       " '$15,625,000',\n",
       " '$15,517,242',\n",
       " '$15,428,880',\n",
       " '$14,491,964',\n",
       " '$14,339,285',\n",
       " '$14,320,987',\n",
       " '$14,190,000',\n",
       " '$14,000,000',\n",
       " '$13,750,000',\n",
       " '$13,666,667',\n",
       " '$13,445,120',\n",
       " '$13,302,325',\n",
       " '$13,038,862',\n",
       " '$13,036,364',\n",
       " '$13,000,000',\n",
       " '$13,000,000',\n",
       " '$12,975,471',\n",
       " '$12,940,000',\n",
       " '$12,727,273',\n",
       " '$12,632,950',\n",
       " '$12,500,000',\n",
       " '$12,420,000',\n",
       " '$12,200,000',\n",
       " '$12,195,122',\n",
       " '$12,026,998',\n",
       " '$12,000,000',\n",
       " '$12,000,000',\n",
       " '$12,000,000',\n",
       " '$11,615,328',\n",
       " '$11,312,114',\n",
       " '$11,109,327',\n",
       " '$11,080,125',\n",
       " '$11,000,000',\n",
       " '$10,733,400',\n",
       " '$10,690,909',\n",
       " '$10,500,000',\n",
       " '$10,384,500',\n",
       " '$10,384,500',\n",
       " '$10,335,621',\n",
       " '$10,245,480',\n",
       " '$10,174,391',\n",
       " '$10,050,120',\n",
       " '$10,000,000',\n",
       " '$10,000,000',\n",
       " '$9,946,611',\n",
       " '$9,937,150',\n",
       " '$9,720,900',\n",
       " '$9,720,900',\n",
       " '$9,720,900',\n",
       " '$9,720,900',\n",
       " '$9,720,900',\n",
       " '$9,603,360',\n",
       " '$9,536,000',\n",
       " '$9,536,000',\n",
       " '$9,500,000',\n",
       " '$9,248,333',\n",
       " '$9,180,560',\n",
       " '$9,166,800',\n",
       " '$8,992,080',\n",
       " '$8,825,000',\n",
       " '$8,805,976',\n",
       " '$8,800,000',\n",
       " '$8,800,000',\n",
       " '$8,750,000',\n",
       " '$8,666,667',\n",
       " '$8,623,920',\n",
       " '$8,600,000',\n",
       " '$8,526,316',\n",
       " '$8,510,000',\n",
       " '$8,449,074',\n",
       " '$8,376,286',\n",
       " '$8,326,471',\n",
       " '$8,280,351',\n",
       " '$8,231,760',\n",
       " '$8,207,518',\n",
       " '$8,200,000',\n",
       " '$8,133,334',\n",
       " '$8,075,160',\n",
       " '$7,775,400',\n",
       " '$7,622,467',\n",
       " '$7,568,743',\n",
       " '$7,518,518',\n",
       " '$7,500,000',\n",
       " '$7,500,000',\n",
       " '$7,422,000',\n",
       " '$7,310,000',\n",
       " '$7,280,400',\n",
       " '$7,040,880',\n",
       " '$7,020,000',\n",
       " '$7,000,000',\n",
       " '$7,000,000',\n",
       " '$6,920,027',\n",
       " '$6,907,815',\n",
       " '$6,720,720',\n",
       " '$6,592,920',\n",
       " '$6,500,000',\n",
       " '$6,431,666',\n",
       " '$6,395,160',\n",
       " '$6,350,000',\n",
       " '$6,349,671',\n",
       " '$6,104,280',\n",
       " '$6,006,420',\n",
       " '$5,988,000',\n",
       " '$5,890,000',\n",
       " '$5,890,000',\n",
       " '$5,890,000',\n",
       " '$5,845,978',\n",
       " '$5,837,760',\n",
       " '$5,573,333',\n",
       " '$5,572,680',\n",
       " '$5,557,725',\n",
       " '$5,495,532',\n",
       " '$5,466,360',\n",
       " '$5,421,493',\n",
       " '$5,348,280',\n",
       " '$5,333,334',\n",
       " '$5,317,430',\n",
       " '$5,275,491',\n",
       " '$5,258,735',\n",
       " '$5,256,308',\n",
       " '$5,214,583',\n",
       " '$5,200,000',\n",
       " '$5,178,572',\n",
       " '$5,170,564',\n",
       " '$5,105,160',\n",
       " '$5,007,840',\n",
       " '$5,005,350',\n",
       " '$5,000,000',\n",
       " '$5,000,000',\n",
       " '$5,000,000',\n",
       " '$5,000,000',\n",
       " '$5,000,000',\n",
       " '$4,997,424',\n",
       " '$4,916,160',\n",
       " '$4,910,000',\n",
       " '$4,910,000',\n",
       " '$4,878,049',\n",
       " '$4,736,102',\n",
       " '$4,692,840',\n",
       " '$4,675,830',\n",
       " '$4,670,160',\n",
       " '$4,650,000',\n",
       " '$4,629,630',\n",
       " '$4,603,200',\n",
       " '$4,500,000',\n",
       " '$4,500,000',\n",
       " '$4,500,000',\n",
       " '$4,458,000',\n",
       " '$4,447,896',\n",
       " '$4,437,000',\n",
       " '$4,373,040',\n",
       " '$4,347,600',\n",
       " '$4,347,600',\n",
       " '$4,253,357',\n",
       " '$4,235,160',\n",
       " '$4,224,186',\n",
       " '$4,220,083',\n",
       " '$4,215,120',\n",
       " '$4,154,400',\n",
       " '$4,107,149',\n",
       " '$4,087,904',\n",
       " '$4,054,695',\n",
       " '$4,050,000',\n",
       " '$4,023,600',\n",
       " '$4,004,280',\n",
       " '$4,000,000',\n",
       " '$4,000,000',\n",
       " '$4,000,000',\n",
       " '$3,980,551',\n",
       " '$3,946,800',\n",
       " '$3,940,184',\n",
       " '$3,938,818',\n",
       " '$3,902,439',\n",
       " '$3,822,240',\n",
       " '$3,804,360',\n",
       " '$3,799,131',\n",
       " '$3,768,342',\n",
       " '$3,749,400',\n",
       " '$3,732,000',\n",
       " '$3,661,976',\n",
       " '$3,631,200',\n",
       " '$3,562,200',\n",
       " '$3,500,000',\n",
       " '$3,500,000',\n",
       " '$3,449,400',\n",
       " '$3,383,640',\n",
       " '$3,355,239',\n",
       " '$3,300,000',\n",
       " '$3,300,000',\n",
       " '$3,277,080',\n",
       " '$3,277,080',\n",
       " '$3,261,480',\n",
       " '$3,214,680',\n",
       " '$3,200,000',\n",
       " '$3,169,348',\n",
       " '$3,150,000',\n",
       " '$3,113,160',\n",
       " '$3,098,400',\n",
       " '$3,053,760',\n",
       " '$3,000,000',\n",
       " '$3,000,000',\n",
       " '$2,957,520',\n",
       " '$2,901,240',\n",
       " '$2,844,429',\n",
       " '$2,840,160',\n",
       " '$2,824,320',\n",
       " '$2,770,560',\n",
       " '$2,726,880',\n",
       " '$2,711,280',\n",
       " '$2,692,991',\n",
       " '$2,659,680',\n",
       " '$2,641,691',\n",
       " '$2,641,691',\n",
       " '$2,641,691',\n",
       " '$2,641,691',\n",
       " '$2,641,691',\n",
       " '$2,641,691',\n",
       " '$2,641,691',\n",
       " '$2,641,691',\n",
       " '$2,641,691',\n",
       " '$2,641,691',\n",
       " '$2,641,691',\n",
       " '$2,641,691',\n",
       " '$2,641,691',\n",
       " '$2,641,691',\n",
       " '$2,617,800',\n",
       " '$2,602,920',\n",
       " '$2,553,240',\n",
       " '$2,513,040',\n",
       " '$2,500,000',\n",
       " '$2,498,760',\n",
       " '$2,451,240',\n",
       " '$2,412,840',\n",
       " '$2,401,537',\n",
       " '$2,401,537',\n",
       " '$2,401,537',\n",
       " '$2,401,537',\n",
       " '$2,389,641',\n",
       " '$2,389,641',\n",
       " '$2,389,641',\n",
       " '$2,389,641',\n",
       " '$2,389,641',\n",
       " '$2,389,641',\n",
       " '$2,353,320',\n",
       " '$2,353,320',\n",
       " '$2,327,220',\n",
       " '$2,320,000',\n",
       " '$2,316,240',\n",
       " '$2,303,040',\n",
       " '$2,271,045',\n",
       " '$2,259,240',\n",
       " '$2,245,400',\n",
       " '$2,239,820',\n",
       " '$2,239,544',\n",
       " '$2,239,544',\n",
       " '$2,239,200',\n",
       " '$2,210,640',\n",
       " '$2,200,000',\n",
       " '$2,168,640',\n",
       " '$2,161,440',\n",
       " '$2,161,152',\n",
       " '$2,145,720',\n",
       " '$2,137,440',\n",
       " '$2,130,023',\n",
       " '$2,096,880',\n",
       " '$2,089,448',\n",
       " '$2,089,448',\n",
       " '$2,089,448',\n",
       " '$2,075,880',\n",
       " '$2,063,280',\n",
       " '$2,048,040',\n",
       " '$2,038,942',\n",
       " '$2,036,280',\n",
       " '$2,033,160',\n",
       " '$2,023,680',\n",
       " '$2,009,160',\n",
       " '$2,000,000',\n",
       " '$2,000,000',\n",
       " '$2,000,000',\n",
       " '$2,000,000',\n",
       " '$2,000,000',\n",
       " '$2,000,000',\n",
       " '$1,994,520',\n",
       " '$1,977,011',\n",
       " '$1,958,495',\n",
       " '$1,939,350',\n",
       " '$1,939,350',\n",
       " '$1,933,909',\n",
       " '$1,926,834',\n",
       " '$1,925,406',\n",
       " '$1,910,860',\n",
       " '$1,910,860',\n",
       " '$1,901,625',\n",
       " '$1,869,438',\n",
       " '$1,865,546',\n",
       " '$1,859,365',\n",
       " '$1,846,738',\n",
       " '$1,802,057',\n",
       " '$1,802,057',\n",
       " '$1,789,256',\n",
       " '$1,789,256',\n",
       " '$1,789,256',\n",
       " '$1,789,256',\n",
       " '$1,789,256',\n",
       " '$1,786,878',\n",
       " '$1,782,621',\n",
       " '$1,782,621',\n",
       " '$1,782,621',\n",
       " '$1,782,621',\n",
       " '$1,782,621',\n",
       " '$1,782,621',\n",
       " '$1,782,621',\n",
       " '$1,782,621',\n",
       " '$1,782,621',\n",
       " '$1,782,621',\n",
       " '$1,782,621',\n",
       " '$1,782,621',\n",
       " '$1,782,621',\n",
       " '$1,782,621',\n",
       " '$1,782,621',\n",
       " '$1,762,796',\n",
       " '$1,762,796',\n",
       " '$1,739,065',\n",
       " '$1,729,217',\n",
       " '$1,729,217',\n",
       " '$1,729,217',\n",
       " '$1,729,217',\n",
       " '$1,729,217',\n",
       " '$1,729,217',\n",
       " '$1,701,593',\n",
       " '$1,701,593',\n",
       " '$1,700,000',\n",
       " '$1,690,507',\n",
       " '$1,669,178',\n",
       " '$1,669,178',\n",
       " '$1,669,178',\n",
       " '$1,669,178',\n",
       " '$1,669,178',\n",
       " '$1,619,015',\n",
       " '$1,614,825',\n",
       " '$1,603,559',\n",
       " '$1,603,559',\n",
       " '$1,569,178',\n",
       " '$1,518,213',\n",
       " '$1,517,981',\n",
       " '$1,517,981',\n",
       " '$1,517,981',\n",
       " '$1,517,981',\n",
       " '$1,517,981',\n",
       " '$1,517,981',\n",
       " '$1,517,981',\n",
       " '$1,517,981',\n",
       " '$1,517,981',\n",
       " '$1,517,981',\n",
       " '$1,517,981',\n",
       " '$1,517,981',\n",
       " '$1,517,981',\n",
       " '$1,517,981',\n",
       " '$1,517,981',\n",
       " '$1,517,981',\n",
       " '$1,500,000',\n",
       " '$1,489,065',\n",
       " '$1,489,065',\n",
       " '$1,456,667',\n",
       " '$1,368,998',\n",
       " '$1,346,676',\n",
       " '$1,305,761',\n",
       " '$1,292,900',\n",
       " '$1,250,000',\n",
       " '$1,242,340',\n",
       " '$1,168,286',\n",
       " '$1,090,007',\n",
       " '$1,068,200',\n",
       " '$1,062,303',\n",
       " '$1,057,260',\n",
       " '$1,039,080',\n",
       " '$1,005,633',\n",
       " '$1,003,740',\n",
       " '$999,200',\n",
       " '$993,760',\n",
       " '$946,261',\n",
       " '$925,258',\n",
       " '$925,258',\n",
       " '$925,258',\n",
       " '$925,258',\n",
       " '$925,258',\n",
       " '$925,258',\n",
       " '$925,258',\n",
       " '$925,258',\n",
       " '$925,258',\n",
       " '$925,258',\n",
       " '$925,258',\n",
       " '$925,258',\n",
       " '$923,078',\n",
       " '$910,926',\n",
       " '$895,125',\n",
       " '$869,078',\n",
       " '$844,011',\n",
       " '$814,918',\n",
       " '$812,364',\n",
       " '$812,363',\n",
       " '$811,213',\n",
       " '$774,727',\n",
       " '$768,830',\n",
       " '$737,067',\n",
       " '$726,128',\n",
       " '$723,741',\n",
       " '$707,893',\n",
       " '$666,666',\n",
       " '$630,874',\n",
       " '$619,498',\n",
       " '$612,805',\n",
       " '$573,576',\n",
       " '$563,663',\n",
       " '$558,345',\n",
       " '$547,701',\n",
       " '$534,993',\n",
       " '$532,398',\n",
       " '$522,015',\n",
       " '$510,907',\n",
       " '$499,852',\n",
       " '$491,876',\n",
       " '$479,650',\n",
       " '$463,211',\n",
       " '$463,211',\n",
       " '$462,629',\n",
       " '$462,629',\n",
       " '$462,629',\n",
       " '$462,629',\n",
       " '$462,629',\n",
       " '$462,629',\n",
       " '$462,629',\n",
       " '$462,629',\n",
       " '$462,629',\n",
       " '$462,629',\n",
       " '$462,629',\n",
       " '$462,629',\n",
       " '$462,629',\n",
       " '$462,629',\n",
       " '$462,629',\n",
       " '$462,629',\n",
       " '$462,629',\n",
       " '$462,629',\n",
       " '$462,629',\n",
       " '$462,629',\n",
       " '$462,629',\n",
       " '$462,629',\n",
       " '$462,629',\n",
       " '$445,828',\n",
       " '$440,710',\n",
       " '$431,151',\n",
       " '$386,127',\n",
       " '$386,127',\n",
       " '$386,127',\n",
       " '$383,079',\n",
       " '$350,000',\n",
       " '$346,491',\n",
       " '$343,988',\n",
       " '$324,373',\n",
       " '$316,396',\n",
       " '$308,493',\n",
       " '$308,493',\n",
       " '$308,493',\n",
       " '$305,761',\n",
       " '$303,102',\n",
       " '$303,102',\n",
       " '$300,443',\n",
       " '$300,000',\n",
       " '$295,125',\n",
       " '$281,831',\n",
       " '$274,672',\n",
       " '$265,953',\n",
       " '$265,878',\n",
       " '$257,902',\n",
       " '$257,418',\n",
       " '$256,734',\n",
       " '$256,734',\n",
       " '$239,291',\n",
       " '$236,632',\n",
       " '$233,973',\n",
       " '$225,997',\n",
       " '$223,339',\n",
       " '$223,338',\n",
       " '$221,156',\n",
       " '$220,679',\n",
       " '$220,639',\n",
       " '$218,021',\n",
       " '$218,021',\n",
       " '$211,046',\n",
       " '$205,662',\n",
       " '$202,069',\n",
       " '$198,760',\n",
       " '$191,860',\n",
       " '$191,860',\n",
       " '$191,860',\n",
       " '$188,272',\n",
       " '$185,578',\n",
       " '$180,798',\n",
       " '$172,821',\n",
       " '$172,821',\n",
       " '$171,156',\n",
       " '$171,156',\n",
       " '$167,504',\n",
       " '$162,186',\n",
       " '$159,527',\n",
       " '$151,821',\n",
       " '$151,821',\n",
       " '$151,821',\n",
       " '$151,821',\n",
       " '$151,821',\n",
       " '$151,552',\n",
       " '$146,233',\n",
       " '$138,019',\n",
       " '$136,095',\n",
       " '$127,622',\n",
       " '$122,741',\n",
       " '$116,987',\n",
       " '$111,670',\n",
       " '$111,669',\n",
       " '$111,457',\n",
       " '$106,352',\n",
       " '$106,352',\n",
       " '$106,352',\n",
       " '$102,831',\n",
       " '$102,831',\n",
       " '$101,034',\n",
       " '$96,213',\n",
       " '$95,930',\n",
       " '$95,930',\n",
       " '$95,930',\n",
       " '$95,930',\n",
       " '$95,930',\n",
       " '$95,930',\n",
       " '$92,857',\n",
       " '$85,578',\n",
       " '$85,578',\n",
       " '$85,578',\n",
       " '$85,578',\n",
       " '$85,578',\n",
       " '$85,578',\n",
       " '$85,081',\n",
       " '$79,764',\n",
       " '$53,176',\n",
       " '$53,176',\n",
       " '$53,176',\n",
       " '$53,176',\n",
       " '$53,176',\n",
       " '$53,176',\n",
       " '$53,176',\n",
       " '$53,176',\n",
       " '$53,176',\n",
       " '$53,176',\n",
       " '$53,176',\n",
       " '$53,176',\n",
       " '$53,176',\n",
       " '$53,176',\n",
       " '$53,176',\n",
       " '$53,176',\n",
       " '$53,176',\n",
       " '$53,176',\n",
       " '$53,176',\n",
       " '$53,176',\n",
       " '$53,176',\n",
       " '$53,176',\n",
       " '$53,176',\n",
       " '$42,789',\n",
       " '$37,223',\n",
       " '$19,186',\n",
       " '$13,294']"
      ]
     },
     "execution_count": 92,
     "metadata": {},
     "output_type": "execute_result"
    }
   ],
   "source": [
    "salary_list"
   ]
  },
  {
   "cell_type": "code",
   "execution_count": 109,
   "metadata": {},
   "outputs": [
    {
     "data": {
      "text/html": [
       "<div>\n",
       "<style scoped>\n",
       "    .dataframe tbody tr th:only-of-type {\n",
       "        vertical-align: middle;\n",
       "    }\n",
       "\n",
       "    .dataframe tbody tr th {\n",
       "        vertical-align: top;\n",
       "    }\n",
       "\n",
       "    .dataframe thead th {\n",
       "        text-align: right;\n",
       "    }\n",
       "</style>\n",
       "<table border=\"1\" class=\"dataframe\">\n",
       "  <thead>\n",
       "    <tr style=\"text-align: right;\">\n",
       "      <th></th>\n",
       "      <th>PlayerName</th>\n",
       "      <th>Salary</th>\n",
       "      <th>Year</th>\n",
       "    </tr>\n",
       "  </thead>\n",
       "  <tbody>\n",
       "    <tr>\n",
       "      <th>0</th>\n",
       "      <td>Stephen Curry</td>\n",
       "      <td>$45,780,966</td>\n",
       "      <td>2021</td>\n",
       "    </tr>\n",
       "    <tr>\n",
       "      <th>1</th>\n",
       "      <td>John Wall</td>\n",
       "      <td>$44,310,840</td>\n",
       "      <td>2021</td>\n",
       "    </tr>\n",
       "    <tr>\n",
       "      <th>2</th>\n",
       "      <td>James Harden</td>\n",
       "      <td>$44,310,840</td>\n",
       "      <td>2021</td>\n",
       "    </tr>\n",
       "    <tr>\n",
       "      <th>3</th>\n",
       "      <td>Russell Westbrook</td>\n",
       "      <td>$44,211,146</td>\n",
       "      <td>2021</td>\n",
       "    </tr>\n",
       "    <tr>\n",
       "      <th>4</th>\n",
       "      <td>Kevin Durant</td>\n",
       "      <td>$42,018,900</td>\n",
       "      <td>2021</td>\n",
       "    </tr>\n",
       "  </tbody>\n",
       "</table>\n",
       "</div>"
      ],
      "text/plain": [
       "          PlayerName       Salary  Year\n",
       "0      Stephen Curry  $45,780,966  2021\n",
       "1          John Wall  $44,310,840  2021\n",
       "2       James Harden  $44,310,840  2021\n",
       "3  Russell Westbrook  $44,211,146  2021\n",
       "4       Kevin Durant  $42,018,900  2021"
      ]
     },
     "execution_count": 109,
     "metadata": {},
     "output_type": "execute_result"
    }
   ],
   "source": [
    "df1 = pd.DataFrame({\"PlayerName\":players_list[1:],'Salary':salary_list[1:],'Year':2021})\n",
    "df1.head()"
   ]
  },
  {
   "cell_type": "code",
   "execution_count": 110,
   "metadata": {},
   "outputs": [],
   "source": [
    "\n",
    "#df1 = pd.DataFrame({'PlayerName':players_list[1:],'Salary':salary_list[1:],'Year':2021})\n",
    "for yrs in range(2016,2020):\n",
    "    url = 'https://hoopshype.com/salaries/players/'+str(yrs)+'-'+ str(yrs+1) +'/'\n",
    "    driver.get(url)\n",
    "    players = driver.find_elements(By.CLASS_NAME, 'name')\n",
    "    salary =  driver.find_elements(By.CLASS_NAME, \"hh-salaries-sorted\")\n",
    "    players_list = []\n",
    "    for p in range(len(players)):\n",
    "        if players[p].text != '':  \n",
    "            players_list.append(players[p].text)\n",
    "    salary_list = []\n",
    "    for p in range(len(salary)):\n",
    "        #if salary[p].text != '':  \n",
    "        salary_list.append(salary[p].text)\n",
    "        #salary_list.pop(0)\n",
    "    temp_df = pd.DataFrame({'PlayerName':players_list[1:],'Salary':salary_list[1:],'Year':yrs})\n",
    "\n",
    "    df1 = df1.append(temp_df)"
   ]
  },
  {
   "cell_type": "code",
   "execution_count": 113,
   "metadata": {},
   "outputs": [
    {
     "data": {
      "text/html": [
       "<div>\n",
       "<style scoped>\n",
       "    .dataframe tbody tr th:only-of-type {\n",
       "        vertical-align: middle;\n",
       "    }\n",
       "\n",
       "    .dataframe tbody tr th {\n",
       "        vertical-align: top;\n",
       "    }\n",
       "\n",
       "    .dataframe thead th {\n",
       "        text-align: right;\n",
       "    }\n",
       "</style>\n",
       "<table border=\"1\" class=\"dataframe\">\n",
       "  <thead>\n",
       "    <tr style=\"text-align: right;\">\n",
       "      <th></th>\n",
       "      <th>PlayerName</th>\n",
       "      <th>Salary</th>\n",
       "      <th>Year</th>\n",
       "    </tr>\n",
       "  </thead>\n",
       "  <tbody>\n",
       "    <tr>\n",
       "      <th>455</th>\n",
       "      <td>Toney Douglas</td>\n",
       "      <td>$564,868</td>\n",
       "      <td>2016</td>\n",
       "    </tr>\n",
       "    <tr>\n",
       "      <th>103</th>\n",
       "      <td>Mirza Teletovic</td>\n",
       "      <td>$10,500,000</td>\n",
       "      <td>2016</td>\n",
       "    </tr>\n",
       "    <tr>\n",
       "      <th>104</th>\n",
       "      <td>Jared Dudley</td>\n",
       "      <td>$10,470,000</td>\n",
       "      <td>2016</td>\n",
       "    </tr>\n",
       "    <tr>\n",
       "      <th>105</th>\n",
       "      <td>Al Jefferson</td>\n",
       "      <td>$10,230,179</td>\n",
       "      <td>2016</td>\n",
       "    </tr>\n",
       "    <tr>\n",
       "      <th>106</th>\n",
       "      <td>Tyreke Evans</td>\n",
       "      <td>$10,203,755</td>\n",
       "      <td>2016</td>\n",
       "    </tr>\n",
       "    <tr>\n",
       "      <th>...</th>\n",
       "      <td>...</td>\n",
       "      <td>...</td>\n",
       "      <td>...</td>\n",
       "    </tr>\n",
       "    <tr>\n",
       "      <th>433</th>\n",
       "      <td>Naji Marshall</td>\n",
       "      <td>$1,517,981</td>\n",
       "      <td>2021</td>\n",
       "    </tr>\n",
       "    <tr>\n",
       "      <th>432</th>\n",
       "      <td>Xavier Tillman</td>\n",
       "      <td>$1,517,981</td>\n",
       "      <td>2021</td>\n",
       "    </tr>\n",
       "    <tr>\n",
       "      <th>431</th>\n",
       "      <td>KJ Martin</td>\n",
       "      <td>$1,517,981</td>\n",
       "      <td>2021</td>\n",
       "    </tr>\n",
       "    <tr>\n",
       "      <th>449</th>\n",
       "      <td>Stanley Johnson</td>\n",
       "      <td>$1,368,998</td>\n",
       "      <td>2021</td>\n",
       "    </tr>\n",
       "    <tr>\n",
       "      <th>0</th>\n",
       "      <td>Stephen Curry</td>\n",
       "      <td>$45,780,966</td>\n",
       "      <td>2021</td>\n",
       "    </tr>\n",
       "  </tbody>\n",
       "</table>\n",
       "<p>2876 rows × 3 columns</p>\n",
       "</div>"
      ],
      "text/plain": [
       "          PlayerName       Salary  Year\n",
       "455    Toney Douglas     $564,868  2016\n",
       "103  Mirza Teletovic  $10,500,000  2016\n",
       "104     Jared Dudley  $10,470,000  2016\n",
       "105     Al Jefferson  $10,230,179  2016\n",
       "106     Tyreke Evans  $10,203,755  2016\n",
       "..               ...          ...   ...\n",
       "433    Naji Marshall   $1,517,981  2021\n",
       "432   Xavier Tillman   $1,517,981  2021\n",
       "431        KJ Martin   $1,517,981  2021\n",
       "449  Stanley Johnson   $1,368,998  2021\n",
       "0      Stephen Curry  $45,780,966  2021\n",
       "\n",
       "[2876 rows x 3 columns]"
      ]
     },
     "execution_count": 113,
     "metadata": {},
     "output_type": "execute_result"
    }
   ],
   "source": [
    "df1.sort_values(by='Year')"
   ]
  },
  {
   "cell_type": "code",
   "execution_count": 115,
   "metadata": {},
   "outputs": [
    {
     "data": {
      "text/html": [
       "<div>\n",
       "<style scoped>\n",
       "    .dataframe tbody tr th:only-of-type {\n",
       "        vertical-align: middle;\n",
       "    }\n",
       "\n",
       "    .dataframe tbody tr th {\n",
       "        vertical-align: top;\n",
       "    }\n",
       "\n",
       "    .dataframe thead th {\n",
       "        text-align: right;\n",
       "    }\n",
       "</style>\n",
       "<table border=\"1\" class=\"dataframe\">\n",
       "  <thead>\n",
       "    <tr style=\"text-align: right;\">\n",
       "      <th></th>\n",
       "      <th>PlayerName</th>\n",
       "      <th>Salary</th>\n",
       "      <th>Year</th>\n",
       "    </tr>\n",
       "  </thead>\n",
       "  <tbody>\n",
       "    <tr>\n",
       "      <th>0</th>\n",
       "      <td>Stephen Curry</td>\n",
       "      <td>$45,780,966</td>\n",
       "      <td>2021</td>\n",
       "    </tr>\n",
       "    <tr>\n",
       "      <th>81</th>\n",
       "      <td>Stephen Curry</td>\n",
       "      <td>$12,112,359</td>\n",
       "      <td>2016</td>\n",
       "    </tr>\n",
       "    <tr>\n",
       "      <th>0</th>\n",
       "      <td>Stephen Curry</td>\n",
       "      <td>$34,682,550</td>\n",
       "      <td>2017</td>\n",
       "    </tr>\n",
       "    <tr>\n",
       "      <th>0</th>\n",
       "      <td>Stephen Curry</td>\n",
       "      <td>$37,457,154</td>\n",
       "      <td>2018</td>\n",
       "    </tr>\n",
       "    <tr>\n",
       "      <th>0</th>\n",
       "      <td>Stephen Curry</td>\n",
       "      <td>$40,231,758</td>\n",
       "      <td>2019</td>\n",
       "    </tr>\n",
       "  </tbody>\n",
       "</table>\n",
       "</div>"
      ],
      "text/plain": [
       "       PlayerName       Salary  Year\n",
       "0   Stephen Curry  $45,780,966  2021\n",
       "81  Stephen Curry  $12,112,359  2016\n",
       "0   Stephen Curry  $34,682,550  2017\n",
       "0   Stephen Curry  $37,457,154  2018\n",
       "0   Stephen Curry  $40,231,758  2019"
      ]
     },
     "execution_count": 115,
     "metadata": {},
     "output_type": "execute_result"
    }
   ],
   "source": [
    "df1[df1['PlayerName'] == 'Stephen Curry']"
   ]
  },
  {
   "cell_type": "code",
   "execution_count": null,
   "metadata": {},
   "outputs": [],
   "source": []
  },
  {
   "cell_type": "markdown",
   "metadata": {},
   "source": [
    "Scraping Some Site "
   ]
  },
  {
   "cell_type": "code",
   "execution_count": 1,
   "metadata": {},
   "outputs": [],
   "source": [
    "import pandas as pd\n",
    "from selenium import webdriver\n",
    "#from selenium.webdriver.common.keys import Keys\n",
    "from webdriver_manager.chrome import ChromeDriverManager\n",
    "from selenium.webdriver.common.by import By"
   ]
  },
  {
   "cell_type": "code",
   "execution_count": 2,
   "metadata": {},
   "outputs": [
    {
     "name": "stderr",
     "output_type": "stream",
     "text": [
      "<ipython-input-2-ce01065e71ea>:1: DeprecationWarning: executable_path has been deprecated, please pass in a Service object\n",
      "  driver = webdriver.Chrome('D:/seleniumpython/chromedriver')\n"
     ]
    }
   ],
   "source": [
    "driver = webdriver.Chrome('D:/seleniumpython/chromedriver')"
   ]
  },
  {
   "cell_type": "code",
   "execution_count": 4,
   "metadata": {},
   "outputs": [],
   "source": [
    "driver.get('https://www.rottentomatoes.com/top/bestofrt/')"
   ]
  },
  {
   "cell_type": "code",
   "execution_count": 9,
   "metadata": {},
   "outputs": [],
   "source": [
    "from PIL import Image\n",
    "driver.save_screenshot('C:\\\\Users\\sunil\\OneDrive\\Pictures/Screenshots/foo.png')\n",
    "screenshot = Image.open('ss.png')\n",
    "screenshot.show()"
   ]
  },
  {
   "cell_type": "code",
   "execution_count": 9,
   "metadata": {},
   "outputs": [],
   "source": [
    "#tscore = driver.find_elements(By.CLASS_NAME, 'tMeterScore')"
   ]
  },
  {
   "cell_type": "code",
   "execution_count": 126,
   "metadata": {},
   "outputs": [],
   "source": [
    "ts = driver.find_elements(By.XPATH, '//tbody//tr//td//span[@class = \"tMeterIcon tiny\"]//span[@class = \"tMeterScore\"]')"
   ]
  },
  {
   "cell_type": "code",
   "execution_count": 6,
   "metadata": {},
   "outputs": [
    {
     "data": {
      "text/plain": [
       "100"
      ]
     },
     "execution_count": 6,
     "metadata": {},
     "output_type": "execute_result"
    }
   ],
   "source": [
    "len(ts)"
   ]
  },
  {
   "cell_type": "code",
   "execution_count": 127,
   "metadata": {},
   "outputs": [
    {
     "data": {
      "text/plain": [
       "100"
      ]
     },
     "execution_count": 127,
     "metadata": {},
     "output_type": "execute_result"
    }
   ],
   "source": [
    "ms = driver.find_elements(By.XPATH, '//td//a[@class = \"unstyled articleLink\"]')\n",
    "len(ms)"
   ]
  },
  {
   "cell_type": "code",
   "execution_count": 128,
   "metadata": {},
   "outputs": [
    {
     "data": {
      "text/plain": [
       "100"
      ]
     },
     "execution_count": 128,
     "metadata": {},
     "output_type": "execute_result"
    }
   ],
   "source": [
    "nreviews = driver.find_elements(By.XPATH, '//tr//td[@class = \"right hidden-xs\"]')\n",
    "len(nreviews)"
   ]
  },
  {
   "cell_type": "code",
   "execution_count": 8,
   "metadata": {},
   "outputs": [],
   "source": [
    "movie = []  #legit\n",
    "tscore = []\n",
    "nrevs = []\n",
    "for i in range(len(nreviews)):\n",
    "    nrevs.append(int(nreviews[i].text))\n",
    "    movie.append(ms[i].text)\n",
    "    tscore.append(int(ts[i].text.strip(' %')))"
   ]
  },
  {
   "cell_type": "code",
   "execution_count": 9,
   "metadata": {},
   "outputs": [
    {
     "data": {
      "text/html": [
       "<div>\n",
       "<style scoped>\n",
       "    .dataframe tbody tr th:only-of-type {\n",
       "        vertical-align: middle;\n",
       "    }\n",
       "\n",
       "    .dataframe tbody tr th {\n",
       "        vertical-align: top;\n",
       "    }\n",
       "\n",
       "    .dataframe thead th {\n",
       "        text-align: right;\n",
       "    }\n",
       "</style>\n",
       "<table border=\"1\" class=\"dataframe\">\n",
       "  <thead>\n",
       "    <tr style=\"text-align: right;\">\n",
       "      <th></th>\n",
       "      <th>MovieName</th>\n",
       "      <th>TomatoScore(%)</th>\n",
       "      <th>NumOfReviews</th>\n",
       "    </tr>\n",
       "  </thead>\n",
       "  <tbody>\n",
       "    <tr>\n",
       "      <th>0</th>\n",
       "      <td>It Happened One Night (1934)</td>\n",
       "      <td>99</td>\n",
       "      <td>98</td>\n",
       "    </tr>\n",
       "    <tr>\n",
       "      <th>1</th>\n",
       "      <td>Citizen Kane (1941)</td>\n",
       "      <td>99</td>\n",
       "      <td>121</td>\n",
       "    </tr>\n",
       "    <tr>\n",
       "      <th>2</th>\n",
       "      <td>The Wizard of Oz (1939)</td>\n",
       "      <td>98</td>\n",
       "      <td>160</td>\n",
       "    </tr>\n",
       "    <tr>\n",
       "      <th>3</th>\n",
       "      <td>Modern Times (1936)</td>\n",
       "      <td>98</td>\n",
       "      <td>109</td>\n",
       "    </tr>\n",
       "    <tr>\n",
       "      <th>4</th>\n",
       "      <td>Black Panther (2018)</td>\n",
       "      <td>96</td>\n",
       "      <td>525</td>\n",
       "    </tr>\n",
       "  </tbody>\n",
       "</table>\n",
       "</div>"
      ],
      "text/plain": [
       "                      MovieName  TomatoScore(%)  NumOfReviews\n",
       "0  It Happened One Night (1934)              99            98\n",
       "1           Citizen Kane (1941)              99           121\n",
       "2       The Wizard of Oz (1939)              98           160\n",
       "3           Modern Times (1936)              98           109\n",
       "4          Black Panther (2018)              96           525"
      ]
     },
     "execution_count": 9,
     "metadata": {},
     "output_type": "execute_result"
    }
   ],
   "source": [
    "df = pd.DataFrame({'MovieName':movie, 'TomatoScore(%)':tscore,'NumOfReviews':nrevs})\n",
    "df.head() #legit"
   ]
  },
  {
   "cell_type": "code",
   "execution_count": 129,
   "metadata": {},
   "outputs": [],
   "source": [
    "import re\n",
    "#regex = r'[\\(\\)0-9*]'\n",
    "#st = re.findall(regex,movie[0])"
   ]
  },
  {
   "cell_type": "code",
   "execution_count": 113,
   "metadata": {},
   "outputs": [],
   "source": [
    "s = ''\n",
    "m = movie[2]\n",
    "m = m.strip(s.join(st)).strip(' ')"
   ]
  },
  {
   "cell_type": "code",
   "execution_count": 11,
   "metadata": {},
   "outputs": [
    {
     "data": {
      "text/plain": [
       "['It Happened One Night (1934)',\n",
       " 'Citizen Kane (1941)',\n",
       " 'The Wizard of Oz (1939)',\n",
       " 'Modern Times (1936)',\n",
       " 'Black Panther (2018)',\n",
       " 'Parasite (Gisaengchung) (2019)',\n",
       " 'Avengers: Endgame (2019)',\n",
       " 'Casablanca (1942)',\n",
       " 'Knives Out (2019)',\n",
       " 'Us (2019)',\n",
       " 'Toy Story 4 (2019)',\n",
       " 'Lady Bird (2017)',\n",
       " 'Mission: Impossible - Fallout (2018)',\n",
       " 'BlacKkKlansman (2018)',\n",
       " 'Get Out (2017)',\n",
       " 'The Irishman (2019)',\n",
       " 'The Godfather (1972)',\n",
       " 'Mad Max: Fury Road (2015)',\n",
       " 'Spider-Man: Into the Spider-Verse (2018)',\n",
       " 'Moonlight (2016)',\n",
       " 'Sunset Boulevard (1950)',\n",
       " 'All About Eve (1950)',\n",
       " 'The Cabinet of Dr. Caligari (Das Cabinet des Dr. Caligari) (1920)',\n",
       " 'The Philadelphia Story (1940)',\n",
       " 'Roma (2018)',\n",
       " 'Wonder Woman (2017)',\n",
       " 'A Star Is Born (2018)',\n",
       " 'Inside Out (2015)',\n",
       " 'A Quiet Place (2018)',\n",
       " 'One Night in Miami (2020)',\n",
       " 'Eighth Grade (2018)',\n",
       " 'Rebecca (1940)',\n",
       " 'Booksmart (2019)',\n",
       " 'Logan (2017)',\n",
       " 'His Girl Friday (1940)',\n",
       " 'Portrait of a Lady on Fire (Portrait de la jeune fille en feu) (2020)',\n",
       " 'Coco (2017)',\n",
       " 'Dunkirk (2017)',\n",
       " 'Star Wars: The Last Jedi (2017)',\n",
       " 'A Night at the Opera (1935)',\n",
       " 'The Shape of Water (2017)',\n",
       " 'Thor: Ragnarok (2017)',\n",
       " 'Spotlight (2015)',\n",
       " 'The Farewell (2019)',\n",
       " 'Selma (2014)',\n",
       " 'The Third Man (1949)',\n",
       " 'Rear Window (1954)',\n",
       " 'E.T. The Extra-Terrestrial (1982)',\n",
       " 'Seven Samurai (Shichinin no Samurai) (1956)',\n",
       " 'La Grande illusion (Grand Illusion) (1938)',\n",
       " 'Arrival (2016)',\n",
       " \"Singin' in the Rain (1952)\",\n",
       " 'The Favourite (2018)',\n",
       " 'Double Indemnity (1944)',\n",
       " 'All Quiet on the Western Front (1930)',\n",
       " 'Snow White and the Seven Dwarfs (1937)',\n",
       " 'Marriage Story (2019)',\n",
       " 'The Big Sick (2017)',\n",
       " 'On the Waterfront (1954)',\n",
       " 'Star Wars: Episode VII - The Force Awakens (2015)',\n",
       " 'An American in Paris (1951)',\n",
       " 'The Best Years of Our Lives (1946)',\n",
       " 'Metropolis (1927)',\n",
       " 'Boyhood (2014)',\n",
       " 'Gravity (2013)',\n",
       " 'Leave No Trace (2018)',\n",
       " 'The Maltese Falcon (1941)',\n",
       " 'The Invisible Man (2020)',\n",
       " '12 Years a Slave (2013)',\n",
       " 'Once Upon a Time In Hollywood (2019)',\n",
       " 'Argo (2012)',\n",
       " 'Soul (2020)',\n",
       " \"Ma Rainey's Black Bottom (2020)\",\n",
       " 'The Kid (1921)',\n",
       " 'Manchester by the Sea (2016)',\n",
       " 'Nosferatu, a Symphony of Horror (Nosferatu, eine Symphonie des Grauens) (Nosferatu the Vampire) (1922)',\n",
       " 'The Adventures of Robin Hood (1938)',\n",
       " 'La La Land (2016)',\n",
       " 'North by Northwest (1959)',\n",
       " 'Laura (1944)',\n",
       " 'Spider-Man: Far From Home (2019)',\n",
       " 'Incredibles 2 (2018)',\n",
       " 'Zootopia (2016)',\n",
       " 'Alien (1979)',\n",
       " 'King Kong (1933)',\n",
       " 'Shadow of a Doubt (1943)',\n",
       " 'Call Me by Your Name (2018)',\n",
       " 'Psycho (1960)',\n",
       " '1917 (2020)',\n",
       " 'L.A. Confidential (1997)',\n",
       " 'The Florida Project (2017)',\n",
       " 'War for the Planet of the Apes (2017)',\n",
       " 'Paddington 2 (2018)',\n",
       " \"A Hard Day's Night (1964)\",\n",
       " 'Widows (2018)',\n",
       " 'Never Rarely Sometimes Always (2020)',\n",
       " 'Baby Driver (2017)',\n",
       " 'Spider-Man: Homecoming (2017)',\n",
       " 'The Godfather, Part II (1974)',\n",
       " 'The Battle of Algiers (La Battaglia di Algeri) (1967)']"
      ]
     },
     "execution_count": 11,
     "metadata": {},
     "output_type": "execute_result"
    }
   ],
   "source": [
    "movie"
   ]
  },
  {
   "cell_type": "code",
   "execution_count": 183,
   "metadata": {},
   "outputs": [
    {
     "data": {
      "text/plain": [
       "['It Happened One Night',\n",
       " 'Citizen Kane',\n",
       " 'The Wizard of Oz',\n",
       " 'Modern Times',\n",
       " 'Black Panther',\n",
       " 'Parasite (Gisaengchung)',\n",
       " 'Avengers: Endgame',\n",
       " 'Casablanca',\n",
       " 'Knives Out',\n",
       " 'Us',\n",
       " 'Toy Story 4',\n",
       " 'Lady Bird',\n",
       " 'Mission: Impossible - Fallout',\n",
       " 'BlacKkKlansman',\n",
       " 'Get Out',\n",
       " 'The Irishman',\n",
       " 'The Godfather',\n",
       " 'Mad Max: Fury Road',\n",
       " 'Spider-Man: Into the Spider-Verse',\n",
       " 'Moonlight',\n",
       " 'Sunset Boulevard',\n",
       " 'All About Eve',\n",
       " 'The Cabinet of Dr. Caligari (Das Cabinet des Dr. Caligari)',\n",
       " 'The Philadelphia Story',\n",
       " 'Roma',\n",
       " 'Wonder Woman',\n",
       " 'A Star Is Born',\n",
       " 'Inside Out',\n",
       " 'A Quiet Place',\n",
       " 'One Night in Miami',\n",
       " 'Eighth Grade',\n",
       " 'Rebecca',\n",
       " 'Booksmart',\n",
       " 'Logan',\n",
       " 'His Girl Friday',\n",
       " 'Portrait of a Lady on Fire (Portrait de la jeune fille en feu)',\n",
       " 'Coco',\n",
       " 'Dunkirk',\n",
       " 'Star Wars: The Last Jedi',\n",
       " 'A Night at the Opera',\n",
       " 'The Shape of Water',\n",
       " 'Thor: Ragnarok',\n",
       " 'Spotlight',\n",
       " 'The Farewell',\n",
       " 'Selma',\n",
       " 'The Third Man',\n",
       " 'Rear Window',\n",
       " 'E.T. The Extra-Terrestrial',\n",
       " 'Seven Samurai (Shichinin no Samurai)',\n",
       " 'La Grande illusion (Grand Illusion)',\n",
       " 'Arrival',\n",
       " \"Singin' in the Rain\",\n",
       " 'The Favourite',\n",
       " 'Double Indemnity',\n",
       " 'All Quiet on the Western Front',\n",
       " 'Snow White and the Seven Dwarfs',\n",
       " 'Marriage Story',\n",
       " 'The Big Sick',\n",
       " 'On the Waterfront',\n",
       " 'Star Wars: Episode VII - The Force Awakens',\n",
       " 'An American in Paris',\n",
       " 'The Best Years of Our Lives',\n",
       " 'Metropolis',\n",
       " 'Boyhood',\n",
       " 'Gravity',\n",
       " 'Leave No Trace',\n",
       " 'The Maltese Falcon',\n",
       " 'The Invisible Man',\n",
       " 'Years a Slave',\n",
       " 'Once Upon a Time In Hollywood',\n",
       " 'Argo',\n",
       " 'Soul',\n",
       " \"Ma Rainey's Black Bottom\",\n",
       " 'The Kid',\n",
       " 'Manchester by the Sea',\n",
       " 'Nosferatu, a Symphony of Horror (Nosferatu, eine Symphonie des Grauens) (Nosferatu the Vampire)',\n",
       " 'The Adventures of Robin Hood',\n",
       " 'La La Land',\n",
       " 'North by Northwest',\n",
       " 'Laura',\n",
       " 'Spider-Man: Far From Home',\n",
       " 'Incredibles 2',\n",
       " 'Zootopia',\n",
       " 'Alien',\n",
       " 'King Kong',\n",
       " 'Shadow of a Doubt',\n",
       " 'Call Me by Your Name',\n",
       " 'Psycho',\n",
       " '',\n",
       " 'L.A. Confidential',\n",
       " 'The Florida Project',\n",
       " 'War for the Planet of the Apes',\n",
       " 'Paddington 2',\n",
       " \"A Hard Day's Night\",\n",
       " 'Widows',\n",
       " 'Never Rarely Sometimes Always',\n",
       " 'Baby Driver',\n",
       " 'Spider-Man: Homecoming',\n",
       " 'The Godfather, Part II',\n",
       " 'The Battle of Algiers (La Battaglia di Algeri)']"
      ]
     },
     "execution_count": 183,
     "metadata": {},
     "output_type": "execute_result"
    }
   ],
   "source": [
    "movie_list = []\n",
    "regex = r'[\\(\\)0-9*]'\n",
    "for m in movie:\n",
    "    st = re.findall(regex,m)\n",
    "    movie_list.append(m.strip(s.join(st)).strip(' '))\n",
    "movie_list"
   ]
  },
  {
   "cell_type": "code",
   "execution_count": 177,
   "metadata": {},
   "outputs": [],
   "source": [
    "reg = '\\(.*\\)'\n",
    "re.search(reg,'The Battle of Algiers ')"
   ]
  },
  {
   "cell_type": "code",
   "execution_count": 163,
   "metadata": {},
   "outputs": [
    {
     "data": {
      "text/plain": [
       "'knives out'"
      ]
     },
     "execution_count": 163,
     "metadata": {},
     "output_type": "execute_result"
    }
   ],
   "source": [
    "rx = re.compile('[]:,-]')\n",
    "rx.sub(' ','knives:out')"
   ]
  },
  {
   "cell_type": "code",
   "execution_count": 133,
   "metadata": {},
   "outputs": [
    {
     "data": {
      "text/plain": [
       "'knives out d'"
      ]
     },
     "execution_count": 133,
     "metadata": {},
     "output_type": "execute_result"
    }
   ],
   "source": [
    "z = movie_list[1]\n",
    "'knives:out-d'.replace(':',' ').replace('-',' ')"
   ]
  },
  {
   "cell_type": "code",
   "execution_count": 13,
   "metadata": {},
   "outputs": [
    {
     "data": {
      "text/plain": [
       "['It_Happened_One_Night',\n",
       " 'Citizen_Kane',\n",
       " 'The_Wizard_of_Oz',\n",
       " 'Modern_Times',\n",
       " 'Black_Panther',\n",
       " 'Parasite',\n",
       " 'Avengers_Endgame',\n",
       " 'Casablanca',\n",
       " 'Knives_Out',\n",
       " 'Us']"
      ]
     },
     "execution_count": 13,
     "metadata": {},
     "output_type": "execute_result"
    }
   ],
   "source": [
    "movie_list = movie.copy() #legit\n",
    "regex = r'[\\(\\)0-9*]'\n",
    "s = ''\n",
    "for i in range(len(movie)): \n",
    "    rx = re.compile('[]:,-]')\n",
    "    movie_list[i] = rx.sub('',movie_list[i])\n",
    "    reg = re.compile('\\(.*\\)')\n",
    "    movie_list[i] = reg.sub('',movie_list[i])\n",
    "    movie_list[i] = movie_list[i].replace(' ','_')\n",
    "    st = re.findall(regex,movie_list[i])\n",
    "    movie_list[i] = movie_list[i].strip(s.join(st)).strip('_ ')\n",
    "movie_list[:10]"
   ]
  },
  {
   "cell_type": "markdown",
   "metadata": {},
   "source": [
    "Access each movie page to scrape data"
   ]
  },
  {
   "cell_type": "code",
   "execution_count": 123,
   "metadata": {},
   "outputs": [],
   "source": [
    "driver.get('https://www.rottentomatoes.com/m/Black Panther')\n",
    "#info = driver.find_elements(By.XPATH,'//div[@class=\"meta-value\"]')\n",
    "#genre = driver.find_elements(By.XPATH,'//div[@class=\"meta-value genre\"]')"
   ]
  },
  {
   "cell_type": "code",
   "execution_count": 223,
   "metadata": {},
   "outputs": [
    {
     "data": {
      "text/plain": [
       "'404 - Not Found'"
      ]
     },
     "execution_count": 223,
     "metadata": {},
     "output_type": "execute_result"
    }
   ],
   "source": [
    "driver.find_elements(By.XPATH,'//div[@style = \"padding: 15px 0;\"]//h1')[0].text"
   ]
  },
  {
   "cell_type": "code",
   "execution_count": 198,
   "metadata": {},
   "outputs": [
    {
     "name": "stdout",
     "output_type": "stream",
     "text": [
      "English\n",
      "1h 30m\n"
     ]
    }
   ],
   "source": [
    "for i in range(len(info)):\n",
    "    print(info[i].text)"
   ]
  },
  {
   "cell_type": "code",
   "execution_count": 34,
   "metadata": {},
   "outputs": [
    {
     "data": {
      "text/plain": [
       "director      NaN\n",
       "collection    NaN\n",
       "genre         NaN\n",
       "Name: 2, dtype: object"
      ]
     },
     "execution_count": 34,
     "metadata": {},
     "output_type": "execute_result"
    }
   ],
   "source": [
    "dt.iloc[2,3:]"
   ]
  },
  {
   "cell_type": "code",
   "execution_count": 44,
   "metadata": {},
   "outputs": [],
   "source": [
    "import numpy as np"
   ]
  },
  {
   "cell_type": "code",
   "execution_count": 115,
   "metadata": {},
   "outputs": [
    {
     "data": {
      "text/html": [
       "<div>\n",
       "<style scoped>\n",
       "    .dataframe tbody tr th:only-of-type {\n",
       "        vertical-align: middle;\n",
       "    }\n",
       "\n",
       "    .dataframe tbody tr th {\n",
       "        vertical-align: top;\n",
       "    }\n",
       "\n",
       "    .dataframe thead th {\n",
       "        text-align: right;\n",
       "    }\n",
       "</style>\n",
       "<table border=\"1\" class=\"dataframe\">\n",
       "  <thead>\n",
       "    <tr style=\"text-align: right;\">\n",
       "      <th></th>\n",
       "      <th>movie</th>\n",
       "      <th>rating</th>\n",
       "      <th>nrev</th>\n",
       "      <th>director</th>\n",
       "      <th>collection</th>\n",
       "      <th>genre</th>\n",
       "    </tr>\n",
       "  </thead>\n",
       "  <tbody>\n",
       "    <tr>\n",
       "      <th>0</th>\n",
       "      <td>Pokemon</td>\n",
       "      <td>76</td>\n",
       "      <td>349.0</td>\n",
       "      <td>Oda</td>\n",
       "      <td>504</td>\n",
       "      <td>NaN</td>\n",
       "    </tr>\n",
       "    <tr>\n",
       "      <th>1</th>\n",
       "      <td>Dbz</td>\n",
       "      <td>78</td>\n",
       "      <td>445.0</td>\n",
       "      <td>Oda</td>\n",
       "      <td>504</td>\n",
       "      <td>NaN</td>\n",
       "    </tr>\n",
       "    <tr>\n",
       "      <th>2</th>\n",
       "      <td>Naruto</td>\n",
       "      <td>87</td>\n",
       "      <td>245.0</td>\n",
       "      <td>NaN</td>\n",
       "      <td>NaN</td>\n",
       "      <td>NaN</td>\n",
       "    </tr>\n",
       "    <tr>\n",
       "      <th>3</th>\n",
       "      <td>onepiece</td>\n",
       "      <td>89</td>\n",
       "      <td>435.0</td>\n",
       "      <td>Oda</td>\n",
       "      <td>504</td>\n",
       "      <td>NaN</td>\n",
       "    </tr>\n",
       "    <tr>\n",
       "      <th>4</th>\n",
       "      <td>snk</td>\n",
       "      <td>87</td>\n",
       "      <td>NaN</td>\n",
       "      <td>NaN</td>\n",
       "      <td>234</td>\n",
       "      <td>NaN</td>\n",
       "    </tr>\n",
       "  </tbody>\n",
       "</table>\n",
       "</div>"
      ],
      "text/plain": [
       "      movie  rating   nrev director collection genre\n",
       "0   Pokemon      76  349.0      Oda        504   NaN\n",
       "1       Dbz      78  445.0      Oda        504   NaN\n",
       "2    Naruto      87  245.0      NaN        NaN   NaN\n",
       "3  onepiece      89  435.0      Oda        504   NaN\n",
       "4       snk      87    NaN      NaN        234   NaN"
      ]
     },
     "execution_count": 115,
     "metadata": {},
     "output_type": "execute_result"
    }
   ],
   "source": [
    "dt = pd.DataFrame({'movie':['Pokemon','Dbz','Naruto','onepiece'],'rating':[76,78,87,89],'nrev':[349,445,245,435]}, columns=['movie','rating','nrev','director','collection','genre'], index=[0,1,2,3])\n",
    "for i in range(0,4):\n",
    "    if i == 2:\n",
    "        dt.iloc[i,3:] = np.nan\n",
    "    else:\n",
    "        dt.iloc[i,3:-1] = ['Oda',504,]\n",
    "\n",
    "dt.append({'movie':'snk','rating':87,'collection':234}, ignore_index=True)\n"
   ]
  },
  {
   "cell_type": "code",
   "execution_count": 116,
   "metadata": {},
   "outputs": [],
   "source": [
    "#new = [1,2,3].copy()\n",
    "new = [6,7,8]\n",
    "new.insert(1, 5)\n",
    "\n",
    "new[:-1]\n",
    "key_list, val_list = [],[]"
   ]
  },
  {
   "cell_type": "code",
   "execution_count": null,
   "metadata": {},
   "outputs": [],
   "source": [
    "df_copy = df.copy() #legit\n",
    "for movies in movie_list:\n",
    "    \n",
    "    url = 'https://www.rottentomatoes.com/m/'+movies\n",
    "    #try:\n",
    "    driver.get(url)\n",
    "    if driver.find_elements(By.XPATH,'//div[@style = \"padding: 15px 0;\"]//h1')[0].text == '404 - Not Found':\n",
    "        continue\n",
    "    else:\n",
    "        webelement_list_val = []\n",
    "        webelement_list_key = []\n",
    "        webelement_list_val = driver.find_elements(By.XPATH,'//dic[@class=\"meta-value\"]')\n",
    "        webelement_list_key = driver.find_elements(By.XPATH,'//dic[@class=\"meta-label subtle\"]')\n",
    "        \n",
    "        key_list, val_list = [],[]\n",
    "        for k,v in zip(webelement_list_key, webelement_list_val):\n",
    "            key_list.append(k.text)\n",
    "            val_list.append(val_list)\n",
    "            \n",
    "        key_genre = driver.find_elements(By.XPATH,'//dic[@class=\"meta-value genre\"]')[0].text\n",
    "        genre = driver.find_elements(By.XPATH,'//dic[@class=\"meta-value genre\"]')[0].text\n",
    "        folder.insert(1,genre)\n",
    "    \n",
    "    \n",
    "\n",
    "    #except:\n"
   ]
  },
  {
   "cell_type": "code",
   "execution_count": 195,
   "metadata": {},
   "outputs": [],
   "source": [
    "driver.get('https://www.rottentomatoes.com/m/1003707-casablanca')\n",
    "webelement_list_val = []\n",
    "webelement_list_key = []\n",
    "\n",
    "\n",
    "webelement_list_key = driver.find_elements(By.XPATH,'//div[@data-qa=\"movie-info-item-label\"]')\n",
    "webelement_list_val = driver.find_elements(By.XPATH,'//div[@data-qa=\"movie-info-item-value\"]')\n",
    "key_list, val_list = [],[]\n",
    "for k,v in zip(webelement_list_key, webelement_list_val):\n",
    "    key_list.append(k.text.strip(':'))\n",
    "    val_list.append(v.text)"
   ]
  },
  {
   "cell_type": "code",
   "execution_count": 160,
   "metadata": {},
   "outputs": [
    {
     "data": {
      "text/plain": [
       "{'Genre': 'Comedy, Romance',\n",
       " 'Original Language': 'English',\n",
       " 'Director': 'Frank Capra',\n",
       " 'Producer': 'Frank Capra, Harry Cohn',\n",
       " 'Writer': 'Samuel Hopkins Adams, Robert Riskin',\n",
       " 'Release Date (Theaters)': 'Feb 22, 1934  Original',\n",
       " 'Release Date (Streaming)': 'Dec 28, 1999',\n",
       " 'Runtime': '1h 45m',\n",
       " 'Distributor': 'Columbia Pictures, Columbia TriStar Home Video, RCA/Columbia',\n",
       " 'Sound Mix': 'Mono',\n",
       " 'Aspect Ratio': '35mm, Flat (1.37:1)'}"
      ]
     },
     "execution_count": 160,
     "metadata": {},
     "output_type": "execute_result"
    }
   ],
   "source": [
    "info2 = dict(zip(key_list,val_list))\n",
    "info2"
   ]
  },
  {
   "cell_type": "code",
   "execution_count": 165,
   "metadata": {},
   "outputs": [
    {
     "data": {
      "text/plain": [
       "dict_keys(['Rating', 'Genre', 'Original Language', 'Director', 'Producer', 'Writer', 'Release Date (Theaters)', 'Release Date (Streaming)', 'Box Office (Gross USA)', 'Runtime', 'Distributor', 'Sound Mix', 'Aspect Ratio', 'View the collection'])"
      ]
     },
     "execution_count": 165,
     "metadata": {},
     "output_type": "execute_result"
    }
   ],
   "source": [
    "info1 = dict(zip(key_list,val_list))\n",
    "info1.keys()"
   ]
  },
  {
   "cell_type": "code",
   "execution_count": 166,
   "metadata": {},
   "outputs": [
    {
     "data": {
      "text/html": [
       "<div>\n",
       "<style scoped>\n",
       "    .dataframe tbody tr th:only-of-type {\n",
       "        vertical-align: middle;\n",
       "    }\n",
       "\n",
       "    .dataframe tbody tr th {\n",
       "        vertical-align: top;\n",
       "    }\n",
       "\n",
       "    .dataframe thead th {\n",
       "        text-align: right;\n",
       "    }\n",
       "</style>\n",
       "<table border=\"1\" class=\"dataframe\">\n",
       "  <thead>\n",
       "    <tr style=\"text-align: right;\">\n",
       "      <th></th>\n",
       "      <th>Rating</th>\n",
       "      <th>Genre</th>\n",
       "      <th>Original Language</th>\n",
       "      <th>Director</th>\n",
       "      <th>Producer</th>\n",
       "      <th>Writer</th>\n",
       "      <th>Release Date (Theaters)</th>\n",
       "      <th>Release Date (Streaming)</th>\n",
       "      <th>Box Office (Gross USA)</th>\n",
       "      <th>Runtime</th>\n",
       "      <th>Distributor</th>\n",
       "      <th>Sound Mix</th>\n",
       "      <th>Aspect Ratio</th>\n",
       "      <th>View the collection</th>\n",
       "    </tr>\n",
       "  </thead>\n",
       "  <tbody>\n",
       "  </tbody>\n",
       "</table>\n",
       "</div>"
      ],
      "text/plain": [
       "Empty DataFrame\n",
       "Columns: [Rating, Genre, Original Language, Director, Producer, Writer, Release Date (Theaters), Release Date (Streaming), Box Office (Gross USA), Runtime, Distributor, Sound Mix, Aspect Ratio, View the collection]\n",
       "Index: []"
      ]
     },
     "execution_count": 166,
     "metadata": {},
     "output_type": "execute_result"
    }
   ],
   "source": [
    "data = pd.DataFrame(columns=info1.keys())\n",
    "data"
   ]
  },
  {
   "cell_type": "code",
   "execution_count": 168,
   "metadata": {},
   "outputs": [],
   "source": [
    "data = data.append(info1, ignore_index=True)\n",
    "data = data.append(info2,ignore_index=True)"
   ]
  },
  {
   "cell_type": "code",
   "execution_count": 170,
   "metadata": {},
   "outputs": [
    {
     "data": {
      "text/html": [
       "<div>\n",
       "<style scoped>\n",
       "    .dataframe tbody tr th:only-of-type {\n",
       "        vertical-align: middle;\n",
       "    }\n",
       "\n",
       "    .dataframe tbody tr th {\n",
       "        vertical-align: top;\n",
       "    }\n",
       "\n",
       "    .dataframe thead th {\n",
       "        text-align: right;\n",
       "    }\n",
       "</style>\n",
       "<table border=\"1\" class=\"dataframe\">\n",
       "  <thead>\n",
       "    <tr style=\"text-align: right;\">\n",
       "      <th></th>\n",
       "      <th>Rating</th>\n",
       "      <th>Genre</th>\n",
       "      <th>Original Language</th>\n",
       "      <th>Director</th>\n",
       "      <th>Producer</th>\n",
       "      <th>Writer</th>\n",
       "      <th>Release Date (Theaters)</th>\n",
       "      <th>Release Date (Streaming)</th>\n",
       "      <th>Box Office (Gross USA)</th>\n",
       "      <th>Runtime</th>\n",
       "      <th>Distributor</th>\n",
       "      <th>Sound Mix</th>\n",
       "      <th>Aspect Ratio</th>\n",
       "      <th>View the collection</th>\n",
       "    </tr>\n",
       "  </thead>\n",
       "  <tbody>\n",
       "    <tr>\n",
       "      <th>0</th>\n",
       "      <td>PG-13 (Sequences of Sci-Fi Violence|Action|Som...</td>\n",
       "      <td>Fantasy, Adventure, Sci-Fi, Action</td>\n",
       "      <td>English</td>\n",
       "      <td>Anthony Russo, Joe Russo</td>\n",
       "      <td>Kevin Feige</td>\n",
       "      <td>Christopher Markus, Stephen McFeely</td>\n",
       "      <td>Apr 26, 2019  Wide</td>\n",
       "      <td>Jul 30, 2019</td>\n",
       "      <td>$858.4M</td>\n",
       "      <td>3h 1m</td>\n",
       "      <td>Walt Disney</td>\n",
       "      <td>Dolby Atmos, DTS, Dolby Digital, SDDS</td>\n",
       "      <td>Scope (2.35:1)</td>\n",
       "      <td>Marvel Cinematic Universe</td>\n",
       "    </tr>\n",
       "    <tr>\n",
       "      <th>1</th>\n",
       "      <td>NaN</td>\n",
       "      <td>Comedy, Romance</td>\n",
       "      <td>English</td>\n",
       "      <td>Frank Capra</td>\n",
       "      <td>Frank Capra, Harry Cohn</td>\n",
       "      <td>Samuel Hopkins Adams, Robert Riskin</td>\n",
       "      <td>Feb 22, 1934  Original</td>\n",
       "      <td>Dec 28, 1999</td>\n",
       "      <td>NaN</td>\n",
       "      <td>1h 45m</td>\n",
       "      <td>Columbia Pictures, Columbia TriStar Home Video...</td>\n",
       "      <td>Mono</td>\n",
       "      <td>35mm, Flat (1.37:1)</td>\n",
       "      <td>NaN</td>\n",
       "    </tr>\n",
       "  </tbody>\n",
       "</table>\n",
       "</div>"
      ],
      "text/plain": [
       "                                              Rating  \\\n",
       "0  PG-13 (Sequences of Sci-Fi Violence|Action|Som...   \n",
       "1                                                NaN   \n",
       "\n",
       "                                Genre Original Language  \\\n",
       "0  Fantasy, Adventure, Sci-Fi, Action           English   \n",
       "1                     Comedy, Romance           English   \n",
       "\n",
       "                   Director                 Producer  \\\n",
       "0  Anthony Russo, Joe Russo              Kevin Feige   \n",
       "1               Frank Capra  Frank Capra, Harry Cohn   \n",
       "\n",
       "                                Writer Release Date (Theaters)  \\\n",
       "0  Christopher Markus, Stephen McFeely      Apr 26, 2019  Wide   \n",
       "1  Samuel Hopkins Adams, Robert Riskin  Feb 22, 1934  Original   \n",
       "\n",
       "  Release Date (Streaming) Box Office (Gross USA) Runtime  \\\n",
       "0             Jul 30, 2019                $858.4M   3h 1m   \n",
       "1             Dec 28, 1999                    NaN  1h 45m   \n",
       "\n",
       "                                         Distributor  \\\n",
       "0                                        Walt Disney   \n",
       "1  Columbia Pictures, Columbia TriStar Home Video...   \n",
       "\n",
       "                               Sound Mix         Aspect Ratio  \\\n",
       "0  Dolby Atmos, DTS, Dolby Digital, SDDS       Scope (2.35:1)   \n",
       "1                                   Mono  35mm, Flat (1.37:1)   \n",
       "\n",
       "         View the collection  \n",
       "0  Marvel Cinematic Universe  \n",
       "1                        NaN  "
      ]
     },
     "execution_count": 170,
     "metadata": {},
     "output_type": "execute_result"
    }
   ],
   "source": [
    "data"
   ]
  },
  {
   "cell_type": "code",
   "execution_count": 5,
   "metadata": {},
   "outputs": [
    {
     "data": {
      "text/plain": [
       "['https://www.rottentomatoes.com/m/it_happened_one_night',\n",
       " 'https://www.rottentomatoes.com/m/citizen_kane',\n",
       " 'https://www.rottentomatoes.com/m/the_wizard_of_oz_1939',\n",
       " 'https://www.rottentomatoes.com/m/modern_times',\n",
       " 'https://www.rottentomatoes.com/m/black_panther_2018']"
      ]
     },
     "execution_count": 5,
     "metadata": {},
     "output_type": "execute_result"
    }
   ],
   "source": [
    "#driver.get('https://www.rottentomatoes.com/top/bestofrt/1003707-casablanca')\n",
    "movie_we = driver.find_elements(By.XPATH, '//td//a[@class = \"unstyled articleLink\"]')\n",
    "links = []\n",
    "for i in range(len(movie_we)):  \n",
    "    links.append(movie_we[i].get_attribute('href'))\n",
    "links[:5]"
   ]
  },
  {
   "cell_type": "code",
   "execution_count": 228,
   "metadata": {},
   "outputs": [
    {
     "data": {
      "text/plain": [
       "'https://www.rottentomatoes.com/m/it_happened_one_night'"
      ]
     },
     "execution_count": 228,
     "metadata": {},
     "output_type": "execute_result"
    }
   ],
   "source": [
    "links[0]"
   ]
  },
  {
   "cell_type": "code",
   "execution_count": null,
   "metadata": {},
   "outputs": [],
   "source": [
    "driver.get('https://www.rottentomatoes.com/m/')\n",
    "webelement_list_val = []\n",
    "webelement_list_key = []\n",
    "movie_info = []\n",
    "info_we = driver.find_elements(By.XPATH,'//score-board')\n",
    "\n",
    "webelement_list_key = driver.find_elements(By.XPATH,'//div[@data-qa=\"movie-info-item-label\"]')\n",
    "webelement_list_val = driver.find_elements(By.XPATH,'//div[@data-qa=\"movie-info-item-value\"]')\n",
    "key_list, val_list = [],[]\n",
    "for k,v in zip(webelement_list_key, webelement_list_val):\n",
    "    key_list.append(k.text.strip(':'))\n",
    "    val_list.append(v.text)"
   ]
  },
  {
   "cell_type": "code",
   "execution_count": 21,
   "metadata": {},
   "outputs": [
    {
     "data": {
      "text/plain": [
       "'THE BATTLE OF ALGIERS\\n1966, Drama/History, 2h 5m\\n99%\\nTOMATOMETER\\n89 Reviews\\n95%\\nAUDIENCE SCORE\\n10,000+ Ratings'"
      ]
     },
     "execution_count": 21,
     "metadata": {},
     "output_type": "execute_result"
    }
   ],
   "source": [
    "info_we1 = driver.find_elements(By.XPATH,'//score-board')\n",
    "info_we1[0].text"
   ]
  },
  {
   "cell_type": "code",
   "execution_count": 27,
   "metadata": {},
   "outputs": [
    {
     "data": {
      "text/plain": [
       "'THE BATTLE OF ALGIERS'"
      ]
     },
     "execution_count": 27,
     "metadata": {},
     "output_type": "execute_result"
    }
   ],
   "source": [
    "driver.find_elements(By.XPATH,'//h1[@data-qa=\"score-panel-movie-title\"]')[0].text"
   ]
  },
  {
   "cell_type": "code",
   "execution_count": 8,
   "metadata": {},
   "outputs": [
    {
     "name": "stderr",
     "output_type": "stream",
     "text": [
      "loading....: 100%|██████████| 100/100 [11:15<00:00,  6.75s/it]\n"
     ]
    }
   ],
   "source": [
    "dta = pd.DataFrame(columns=['Movie Name', 'Audience Score', 'Tomatometer Score', 'Rating', 'Genre',\n",
    "                            'Original Language', 'Director', 'Producer', 'Writer', 'Release Date (Theaters)',\n",
    "                           'Release Date (Streaming)', 'Box Office (Gross USA)', 'Runtime', 'Distributor',\n",
    "                            'Sound Mix', 'Aspect Ratio', 'View the collection'])\n",
    "from tqdm import tqdm\n",
    "for link in tqdm(links, desc='loading....'):\n",
    "    driver.get(link)\n",
    "    info_we = driver.find_elements(By.XPATH,'//score-board')\n",
    "    movie_info = {'Movie Name':'','Audience Score':'','Tomatometer Score':''}\n",
    "    movie_info['Movie Name'] = info_we[0].text.split('\\n')[0]\n",
    "    movie_info['Audience Score'] = info_we[0].get_attribute('audiencescore')\n",
    "    movie_info['Tomatometer Score'] = info_we[0].get_attribute('tomatometerscore')\n",
    "    webelement_list_val = []\n",
    "    webelement_list_key = []\n",
    "    webelement_list_key = driver.find_elements(By.XPATH,'//div[@data-qa=\"movie-info-item-label\"]')\n",
    "    webelement_list_val = driver.find_elements(By.XPATH,'//div[@data-qa=\"movie-info-item-value\"]')\n",
    "    key_list, val_list = [],[]\n",
    "    for k,v in zip(webelement_list_key, webelement_list_val):\n",
    "        key_list.append(k.text.strip(':'))\n",
    "        val_list.append(v.text)\n",
    "    info = dict(zip(key_list,val_list))\n",
    "    total_info = {**movie_info,**info} \n",
    "    dta = dta.append(total_info, ignore_index=True)\n",
    "     #append movie info dictionary"
   ]
  },
  {
   "cell_type": "code",
   "execution_count": 10,
   "metadata": {},
   "outputs": [],
   "source": []
  },
  {
   "cell_type": "code",
   "execution_count": 9,
   "metadata": {},
   "outputs": [
    {
     "data": {
      "text/html": [
       "<div>\n",
       "<style scoped>\n",
       "    .dataframe tbody tr th:only-of-type {\n",
       "        vertical-align: middle;\n",
       "    }\n",
       "\n",
       "    .dataframe tbody tr th {\n",
       "        vertical-align: top;\n",
       "    }\n",
       "\n",
       "    .dataframe thead th {\n",
       "        text-align: right;\n",
       "    }\n",
       "</style>\n",
       "<table border=\"1\" class=\"dataframe\">\n",
       "  <thead>\n",
       "    <tr style=\"text-align: right;\">\n",
       "      <th></th>\n",
       "      <th>Movie Name</th>\n",
       "      <th>Audience Score</th>\n",
       "      <th>Tomatometer Score</th>\n",
       "      <th>Rating</th>\n",
       "      <th>Genre</th>\n",
       "      <th>Original Language</th>\n",
       "      <th>Director</th>\n",
       "      <th>Producer</th>\n",
       "      <th>Writer</th>\n",
       "      <th>Release Date (Theaters)</th>\n",
       "      <th>Release Date (Streaming)</th>\n",
       "      <th>Box Office (Gross USA)</th>\n",
       "      <th>Runtime</th>\n",
       "      <th>Distributor</th>\n",
       "      <th>Sound Mix</th>\n",
       "      <th>Aspect Ratio</th>\n",
       "      <th>View the collection</th>\n",
       "    </tr>\n",
       "  </thead>\n",
       "  <tbody>\n",
       "    <tr>\n",
       "      <th>0</th>\n",
       "      <td>IT HAPPENED ONE NIGHT</td>\n",
       "      <td>93</td>\n",
       "      <td>99</td>\n",
       "      <td>NaN</td>\n",
       "      <td>Comedy, Romance</td>\n",
       "      <td>English</td>\n",
       "      <td>Frank Capra</td>\n",
       "      <td>Frank Capra, Harry Cohn</td>\n",
       "      <td>Samuel Hopkins Adams, Robert Riskin</td>\n",
       "      <td>Feb 22, 1934  Original</td>\n",
       "      <td>Dec 28, 1999</td>\n",
       "      <td>NaN</td>\n",
       "      <td>1h 45m</td>\n",
       "      <td>Columbia Pictures, Columbia TriStar Home Video...</td>\n",
       "      <td>Mono</td>\n",
       "      <td>35mm, Flat (1.37:1)</td>\n",
       "      <td>NaN</td>\n",
       "    </tr>\n",
       "    <tr>\n",
       "      <th>1</th>\n",
       "      <td>CITIZEN KANE</td>\n",
       "      <td>90</td>\n",
       "      <td>99</td>\n",
       "      <td>PG</td>\n",
       "      <td>Drama</td>\n",
       "      <td>English</td>\n",
       "      <td>Orson Welles</td>\n",
       "      <td>Orson Welles</td>\n",
       "      <td>Herman J. Mankiewicz, Orson Welles, John Houseman</td>\n",
       "      <td>May 1, 1941  Wide</td>\n",
       "      <td>Feb 23, 2010</td>\n",
       "      <td>$977.3K</td>\n",
       "      <td>1h 59m</td>\n",
       "      <td>RKO Radio Pictures</td>\n",
       "      <td>Mono</td>\n",
       "      <td>Academy (1.33:1)</td>\n",
       "      <td>NaN</td>\n",
       "    </tr>\n",
       "    <tr>\n",
       "      <th>2</th>\n",
       "      <td>THE WIZARD OF OZ</td>\n",
       "      <td>89</td>\n",
       "      <td>98</td>\n",
       "      <td>G</td>\n",
       "      <td>Fantasy, Musical</td>\n",
       "      <td>English</td>\n",
       "      <td>Victor Fleming</td>\n",
       "      <td>Victor Fleming, Mervyn LeRoy</td>\n",
       "      <td>L. Frank Baum, Noel Langley, Florence Ryerson,...</td>\n",
       "      <td>Aug 25, 1939  Wide</td>\n",
       "      <td>Aug 12, 2003</td>\n",
       "      <td>$5.5M</td>\n",
       "      <td>1h 41m</td>\n",
       "      <td>Metro-Goldwyn-Mayer</td>\n",
       "      <td>Mono</td>\n",
       "      <td>Flat (1.37:1)</td>\n",
       "      <td>NaN</td>\n",
       "    </tr>\n",
       "    <tr>\n",
       "      <th>3</th>\n",
       "      <td>MODERN TIMES</td>\n",
       "      <td>95</td>\n",
       "      <td>98</td>\n",
       "      <td>G</td>\n",
       "      <td>Comedy</td>\n",
       "      <td>English</td>\n",
       "      <td>Charlie Chaplin</td>\n",
       "      <td>Charlie Chaplin</td>\n",
       "      <td>Charlie Chaplin</td>\n",
       "      <td>Feb 5, 1936  Wide</td>\n",
       "      <td>Nov 16, 2010</td>\n",
       "      <td>$163.2K</td>\n",
       "      <td>1h 29m</td>\n",
       "      <td>United Artists</td>\n",
       "      <td>Mono</td>\n",
       "      <td>Flat (1.37:1)</td>\n",
       "      <td>NaN</td>\n",
       "    </tr>\n",
       "    <tr>\n",
       "      <th>4</th>\n",
       "      <td>BLACK PANTHER</td>\n",
       "      <td>79</td>\n",
       "      <td>96</td>\n",
       "      <td>PG-13 (Sequences of Action Violence|A Brief Ru...</td>\n",
       "      <td>Fantasy, Adventure, Action</td>\n",
       "      <td>English</td>\n",
       "      <td>Ryan Coogler</td>\n",
       "      <td>Kevin Feige</td>\n",
       "      <td>Ryan Coogler, Joe Robert Cole</td>\n",
       "      <td>Feb 16, 2018  Wide</td>\n",
       "      <td>May 2, 2018</td>\n",
       "      <td>$700.2M</td>\n",
       "      <td>2h 14m</td>\n",
       "      <td>Walt Disney</td>\n",
       "      <td>DTS, Dolby Atmos</td>\n",
       "      <td>Scope (2.35:1)</td>\n",
       "      <td>Marvel Cinematic Universe</td>\n",
       "    </tr>\n",
       "  </tbody>\n",
       "</table>\n",
       "</div>"
      ],
      "text/plain": [
       "              Movie Name Audience Score Tomatometer Score  \\\n",
       "0  IT HAPPENED ONE NIGHT             93                99   \n",
       "1           CITIZEN KANE             90                99   \n",
       "2       THE WIZARD OF OZ             89                98   \n",
       "3           MODERN TIMES             95                98   \n",
       "4          BLACK PANTHER             79                96   \n",
       "\n",
       "                                              Rating  \\\n",
       "0                                                NaN   \n",
       "1                                                 PG   \n",
       "2                                                  G   \n",
       "3                                                  G   \n",
       "4  PG-13 (Sequences of Action Violence|A Brief Ru...   \n",
       "\n",
       "                        Genre Original Language         Director  \\\n",
       "0             Comedy, Romance           English      Frank Capra   \n",
       "1                       Drama           English     Orson Welles   \n",
       "2            Fantasy, Musical           English   Victor Fleming   \n",
       "3                      Comedy           English  Charlie Chaplin   \n",
       "4  Fantasy, Adventure, Action           English     Ryan Coogler   \n",
       "\n",
       "                       Producer  \\\n",
       "0       Frank Capra, Harry Cohn   \n",
       "1                  Orson Welles   \n",
       "2  Victor Fleming, Mervyn LeRoy   \n",
       "3               Charlie Chaplin   \n",
       "4                   Kevin Feige   \n",
       "\n",
       "                                              Writer Release Date (Theaters)  \\\n",
       "0                Samuel Hopkins Adams, Robert Riskin  Feb 22, 1934  Original   \n",
       "1  Herman J. Mankiewicz, Orson Welles, John Houseman       May 1, 1941  Wide   \n",
       "2  L. Frank Baum, Noel Langley, Florence Ryerson,...      Aug 25, 1939  Wide   \n",
       "3                                    Charlie Chaplin       Feb 5, 1936  Wide   \n",
       "4                      Ryan Coogler, Joe Robert Cole      Feb 16, 2018  Wide   \n",
       "\n",
       "  Release Date (Streaming) Box Office (Gross USA) Runtime  \\\n",
       "0             Dec 28, 1999                    NaN  1h 45m   \n",
       "1             Feb 23, 2010                $977.3K  1h 59m   \n",
       "2             Aug 12, 2003                  $5.5M  1h 41m   \n",
       "3             Nov 16, 2010                $163.2K  1h 29m   \n",
       "4              May 2, 2018                $700.2M  2h 14m   \n",
       "\n",
       "                                         Distributor         Sound Mix  \\\n",
       "0  Columbia Pictures, Columbia TriStar Home Video...              Mono   \n",
       "1                                 RKO Radio Pictures              Mono   \n",
       "2                                Metro-Goldwyn-Mayer              Mono   \n",
       "3                                     United Artists              Mono   \n",
       "4                                        Walt Disney  DTS, Dolby Atmos   \n",
       "\n",
       "          Aspect Ratio        View the collection  \n",
       "0  35mm, Flat (1.37:1)                        NaN  \n",
       "1     Academy (1.33:1)                        NaN  \n",
       "2        Flat (1.37:1)                        NaN  \n",
       "3        Flat (1.37:1)                        NaN  \n",
       "4       Scope (2.35:1)  Marvel Cinematic Universe  "
      ]
     },
     "execution_count": 9,
     "metadata": {},
     "output_type": "execute_result"
    }
   ],
   "source": [
    "dta.head()"
   ]
  },
  {
   "cell_type": "code",
   "execution_count": 11,
   "metadata": {},
   "outputs": [
    {
     "name": "stdout",
     "output_type": "stream",
     "text": [
      "<class 'pandas.core.frame.DataFrame'>\n",
      "RangeIndex: 100 entries, 0 to 99\n",
      "Data columns (total 17 columns):\n",
      " #   Column                    Non-Null Count  Dtype         \n",
      "---  ------                    --------------  -----         \n",
      " 0   Movie Name                100 non-null    object        \n",
      " 1   Audience Score            100 non-null    object        \n",
      " 2   Tomatometer Score         100 non-null    object        \n",
      " 3   Rating                    76 non-null     object        \n",
      " 4   Genre                     100 non-null    object        \n",
      " 5   Original Language         100 non-null    object        \n",
      " 6   Director                  100 non-null    object        \n",
      " 7   Producer                  98 non-null     object        \n",
      " 8   Writer                    97 non-null     object        \n",
      " 9   Release Date (Theaters)   98 non-null     object        \n",
      " 10  Release Date (Streaming)  100 non-null    datetime64[ns]\n",
      " 11  Box Office (Gross USA)    68 non-null     object        \n",
      " 12  Runtime                   100 non-null    object        \n",
      " 13  Distributor               95 non-null     object        \n",
      " 14  Sound Mix                 75 non-null     object        \n",
      " 15  Aspect Ratio              74 non-null     object        \n",
      " 16  View the collection       16 non-null     object        \n",
      "dtypes: datetime64[ns](1), object(16)\n",
      "memory usage: 13.4+ KB\n"
     ]
    }
   ],
   "source": [
    "dta.info()"
   ]
  },
  {
   "cell_type": "code",
   "execution_count": 103,
   "metadata": {},
   "outputs": [],
   "source": [
    "df = dta.copy()"
   ]
  },
  {
   "cell_type": "code",
   "execution_count": 104,
   "metadata": {},
   "outputs": [
    {
     "name": "stdout",
     "output_type": "stream",
     "text": [
      "Tomatometer Score    int32\n",
      "Audience Score       int32\n",
      "dtype: object\n"
     ]
    }
   ],
   "source": [
    "df[['Tomatometer Score','Audience Score']]=df[['Tomatometer Score','Audience Score']].astype(int)\n",
    "print(df[['Tomatometer Score','Audience Score']].dtypes)"
   ]
  },
  {
   "cell_type": "code",
   "execution_count": 105,
   "metadata": {},
   "outputs": [
    {
     "name": "stdout",
     "output_type": "stream",
     "text": [
      "0   1999-12-28\n",
      "1   2010-02-23\n",
      "2   2003-08-12\n",
      "3   2010-11-16\n",
      "4   2018-05-02\n",
      "Name: Release Date (Streaming), dtype: datetime64[ns]\n"
     ]
    }
   ],
   "source": [
    "df['Release Date (Streaming)'] = pd.to_datetime(df['Release Date (Streaming)'])\n",
    "print(df['Release Date (Streaming)'].head())"
   ]
  },
  {
   "cell_type": "code",
   "execution_count": 106,
   "metadata": {},
   "outputs": [],
   "source": [
    "dta['Release Date (Streaming)'] = pd.to_datetime(dta['Release Date (Streaming)'])"
   ]
  },
  {
   "cell_type": "code",
   "execution_count": 48,
   "metadata": {},
   "outputs": [
    {
     "data": {
      "text/plain": [
       "'Apr 26 2019'"
      ]
     },
     "execution_count": 48,
     "metadata": {},
     "output_type": "execute_result"
    }
   ],
   "source": [
    "import regex as re\n",
    "s='Apr 26, 2019 Wide'\n",
    "s='Apr 26, 2019 Wide'.split(' ')\n",
    "#regex = r'[\\(\\?\\<\\=\" \"\\)a-zA-Z]'\n",
    "#re.findall(regex,s)\n",
    "s.remove(s[-1])\n",
    "time = ' '.join(s).replace(',','')\n",
    "time"
   ]
  },
  {
   "cell_type": "code",
   "execution_count": 49,
   "metadata": {},
   "outputs": [
    {
     "data": {
      "text/plain": [
       "datetime.date(2019, 4, 26)"
      ]
     },
     "execution_count": 49,
     "metadata": {},
     "output_type": "execute_result"
    }
   ],
   "source": [
    "from datetime import datetime\n",
    "\n",
    "dt = datetime.strptime(time,'%b %d %Y').date()\n",
    "dt"
   ]
  },
  {
   "cell_type": "code",
   "execution_count": 20,
   "metadata": {},
   "outputs": [
    {
     "data": {
      "text/plain": [
       "float"
      ]
     },
     "execution_count": 20,
     "metadata": {},
     "output_type": "execute_result"
    }
   ],
   "source": [
    "import numpy as np\n",
    "c = np.nan\n",
    "type(c)"
   ]
  },
  {
   "cell_type": "code",
   "execution_count": 107,
   "metadata": {},
   "outputs": [],
   "source": [
    "def func(x):\n",
    "    if type(x) != float:\n",
    "        li = x.split(' ')\n",
    "        li.remove(li[-1])\n",
    "        time = ' '.join(li).replace(',','')\n",
    "        return time\n",
    "df['Release Date (Theaters)'] = df['Release Date (Theaters)'].apply(func)\n",
    "df['Release Date (Theaters)'] = pd.to_datetime(df['Release Date (Theaters)'])"
   ]
  },
  {
   "cell_type": "code",
   "execution_count": 110,
   "metadata": {},
   "outputs": [
    {
     "data": {
      "text/html": [
       "<div>\n",
       "<style scoped>\n",
       "    .dataframe tbody tr th:only-of-type {\n",
       "        vertical-align: middle;\n",
       "    }\n",
       "\n",
       "    .dataframe tbody tr th {\n",
       "        vertical-align: top;\n",
       "    }\n",
       "\n",
       "    .dataframe thead th {\n",
       "        text-align: right;\n",
       "    }\n",
       "</style>\n",
       "<table border=\"1\" class=\"dataframe\">\n",
       "  <thead>\n",
       "    <tr style=\"text-align: right;\">\n",
       "      <th></th>\n",
       "      <th>Movie Name</th>\n",
       "      <th>Audience Score</th>\n",
       "      <th>Tomatometer Score</th>\n",
       "      <th>Rating</th>\n",
       "      <th>Genre</th>\n",
       "      <th>Original Language</th>\n",
       "      <th>Director</th>\n",
       "      <th>Producer</th>\n",
       "      <th>Writer</th>\n",
       "      <th>Release Date (Theaters)</th>\n",
       "      <th>Release Date (Streaming)</th>\n",
       "      <th>Box Office (Gross USA)</th>\n",
       "      <th>Runtime</th>\n",
       "      <th>Distributor</th>\n",
       "      <th>Sound Mix</th>\n",
       "      <th>Aspect Ratio</th>\n",
       "      <th>View the collection</th>\n",
       "    </tr>\n",
       "  </thead>\n",
       "  <tbody>\n",
       "    <tr>\n",
       "      <th>0</th>\n",
       "      <td>IT HAPPENED ONE NIGHT</td>\n",
       "      <td>93</td>\n",
       "      <td>99</td>\n",
       "      <td>None</td>\n",
       "      <td>Comedy, Romance</td>\n",
       "      <td>English</td>\n",
       "      <td>Frank Capra</td>\n",
       "      <td>Frank Capra, Harry Cohn</td>\n",
       "      <td>Samuel Hopkins Adams, Robert Riskin</td>\n",
       "      <td>1934-02-22</td>\n",
       "      <td>1999-12-28</td>\n",
       "      <td>NaN</td>\n",
       "      <td>1h 45m</td>\n",
       "      <td>Columbia Pictures, Columbia TriStar Home Video...</td>\n",
       "      <td>Mono</td>\n",
       "      <td>35mm, Flat (1.37:1)</td>\n",
       "      <td>NaN</td>\n",
       "    </tr>\n",
       "    <tr>\n",
       "      <th>1</th>\n",
       "      <td>CITIZEN KANE</td>\n",
       "      <td>90</td>\n",
       "      <td>99</td>\n",
       "      <td>PG</td>\n",
       "      <td>Drama</td>\n",
       "      <td>English</td>\n",
       "      <td>Orson Welles</td>\n",
       "      <td>Orson Welles</td>\n",
       "      <td>Herman J. Mankiewicz, Orson Welles, John Houseman</td>\n",
       "      <td>1941-05-01</td>\n",
       "      <td>2010-02-23</td>\n",
       "      <td>$977.3K</td>\n",
       "      <td>1h 59m</td>\n",
       "      <td>RKO Radio Pictures</td>\n",
       "      <td>Mono</td>\n",
       "      <td>Academy (1.33:1)</td>\n",
       "      <td>NaN</td>\n",
       "    </tr>\n",
       "    <tr>\n",
       "      <th>2</th>\n",
       "      <td>THE WIZARD OF OZ</td>\n",
       "      <td>89</td>\n",
       "      <td>98</td>\n",
       "      <td>G</td>\n",
       "      <td>Fantasy, Musical</td>\n",
       "      <td>English</td>\n",
       "      <td>Victor Fleming</td>\n",
       "      <td>Victor Fleming, Mervyn LeRoy</td>\n",
       "      <td>L. Frank Baum, Noel Langley, Florence Ryerson,...</td>\n",
       "      <td>1939-08-25</td>\n",
       "      <td>2003-08-12</td>\n",
       "      <td>$5.5M</td>\n",
       "      <td>1h 41m</td>\n",
       "      <td>Metro-Goldwyn-Mayer</td>\n",
       "      <td>Mono</td>\n",
       "      <td>Flat (1.37:1)</td>\n",
       "      <td>NaN</td>\n",
       "    </tr>\n",
       "    <tr>\n",
       "      <th>3</th>\n",
       "      <td>MODERN TIMES</td>\n",
       "      <td>95</td>\n",
       "      <td>98</td>\n",
       "      <td>G</td>\n",
       "      <td>Comedy</td>\n",
       "      <td>English</td>\n",
       "      <td>Charlie Chaplin</td>\n",
       "      <td>Charlie Chaplin</td>\n",
       "      <td>Charlie Chaplin</td>\n",
       "      <td>1936-02-05</td>\n",
       "      <td>2010-11-16</td>\n",
       "      <td>$163.2K</td>\n",
       "      <td>1h 29m</td>\n",
       "      <td>United Artists</td>\n",
       "      <td>Mono</td>\n",
       "      <td>Flat (1.37:1)</td>\n",
       "      <td>NaN</td>\n",
       "    </tr>\n",
       "    <tr>\n",
       "      <th>4</th>\n",
       "      <td>BLACK PANTHER</td>\n",
       "      <td>79</td>\n",
       "      <td>96</td>\n",
       "      <td>PG-13</td>\n",
       "      <td>Fantasy, Adventure, Action</td>\n",
       "      <td>English</td>\n",
       "      <td>Ryan Coogler</td>\n",
       "      <td>Kevin Feige</td>\n",
       "      <td>Ryan Coogler, Joe Robert Cole</td>\n",
       "      <td>2018-02-16</td>\n",
       "      <td>2018-05-02</td>\n",
       "      <td>$700.2M</td>\n",
       "      <td>2h 14m</td>\n",
       "      <td>Walt Disney</td>\n",
       "      <td>DTS, Dolby Atmos</td>\n",
       "      <td>Scope (2.35:1)</td>\n",
       "      <td>Marvel Cinematic Universe</td>\n",
       "    </tr>\n",
       "  </tbody>\n",
       "</table>\n",
       "</div>"
      ],
      "text/plain": [
       "              Movie Name  Audience Score  Tomatometer Score Rating  \\\n",
       "0  IT HAPPENED ONE NIGHT              93                 99   None   \n",
       "1           CITIZEN KANE              90                 99     PG   \n",
       "2       THE WIZARD OF OZ              89                 98      G   \n",
       "3           MODERN TIMES              95                 98      G   \n",
       "4          BLACK PANTHER              79                 96  PG-13   \n",
       "\n",
       "                        Genre Original Language         Director  \\\n",
       "0             Comedy, Romance           English      Frank Capra   \n",
       "1                       Drama           English     Orson Welles   \n",
       "2            Fantasy, Musical           English   Victor Fleming   \n",
       "3                      Comedy           English  Charlie Chaplin   \n",
       "4  Fantasy, Adventure, Action           English     Ryan Coogler   \n",
       "\n",
       "                       Producer  \\\n",
       "0       Frank Capra, Harry Cohn   \n",
       "1                  Orson Welles   \n",
       "2  Victor Fleming, Mervyn LeRoy   \n",
       "3               Charlie Chaplin   \n",
       "4                   Kevin Feige   \n",
       "\n",
       "                                              Writer Release Date (Theaters)  \\\n",
       "0                Samuel Hopkins Adams, Robert Riskin              1934-02-22   \n",
       "1  Herman J. Mankiewicz, Orson Welles, John Houseman              1941-05-01   \n",
       "2  L. Frank Baum, Noel Langley, Florence Ryerson,...              1939-08-25   \n",
       "3                                    Charlie Chaplin              1936-02-05   \n",
       "4                      Ryan Coogler, Joe Robert Cole              2018-02-16   \n",
       "\n",
       "  Release Date (Streaming) Box Office (Gross USA) Runtime  \\\n",
       "0               1999-12-28                    NaN  1h 45m   \n",
       "1               2010-02-23                $977.3K  1h 59m   \n",
       "2               2003-08-12                  $5.5M  1h 41m   \n",
       "3               2010-11-16                $163.2K  1h 29m   \n",
       "4               2018-05-02                $700.2M  2h 14m   \n",
       "\n",
       "                                         Distributor         Sound Mix  \\\n",
       "0  Columbia Pictures, Columbia TriStar Home Video...              Mono   \n",
       "1                                 RKO Radio Pictures              Mono   \n",
       "2                                Metro-Goldwyn-Mayer              Mono   \n",
       "3                                     United Artists              Mono   \n",
       "4                                        Walt Disney  DTS, Dolby Atmos   \n",
       "\n",
       "          Aspect Ratio        View the collection  \n",
       "0  35mm, Flat (1.37:1)                        NaN  \n",
       "1     Academy (1.33:1)                        NaN  \n",
       "2        Flat (1.37:1)                        NaN  \n",
       "3        Flat (1.37:1)                        NaN  \n",
       "4       Scope (2.35:1)  Marvel Cinematic Universe  "
      ]
     },
     "execution_count": 110,
     "metadata": {},
     "output_type": "execute_result"
    }
   ],
   "source": [
    "df.head()"
   ]
  },
  {
   "cell_type": "code",
   "execution_count": 108,
   "metadata": {},
   "outputs": [
    {
     "name": "stderr",
     "output_type": "stream",
     "text": [
      "C:\\Users\\sunil\\anaconda3\\lib\\site-packages\\pandas\\core\\indexing.py:1637: SettingWithCopyWarning: \n",
      "A value is trying to be set on a copy of a slice from a DataFrame\n",
      "\n",
      "See the caveats in the documentation: https://pandas.pydata.org/pandas-docs/stable/user_guide/indexing.html#returning-a-view-versus-a-copy\n",
      "  self._setitem_single_block(indexer, value, name)\n"
     ]
    }
   ],
   "source": [
    "df['Rating'].loc[df['Rating'].isnull()] = 'None'"
   ]
  },
  {
   "cell_type": "code",
   "execution_count": 109,
   "metadata": {},
   "outputs": [],
   "source": [
    "df['Rating'] = df['Rating'].agg(lambda a : a.split(' ')[0])"
   ]
  },
  {
   "cell_type": "code",
   "execution_count": 102,
   "metadata": {},
   "outputs": [],
   "source": [
    "df['Box Office (Gross USA)'] = df['Box Office (Gross USA)'].apply(lambda a : a.strip('$KM') if type(a)!=float else a)"
   ]
  },
  {
   "cell_type": "code",
   "execution_count": 90,
   "metadata": {},
   "outputs": [
    {
     "data": {
      "text/plain": [
       "<AxesSubplot:xlabel='Rating', ylabel='count'>"
      ]
     },
     "execution_count": 90,
     "metadata": {},
     "output_type": "execute_result"
    },
    {
     "data": {
      "image/png": "[encoded data removed]",
      "text/plain": [
       "<Figure size 432x288 with 1 Axes>"
      ]
     },
     "metadata": {
      "needs_background": "light"
     },
     "output_type": "display_data"
    }
   ],
   "source": [
    "import seaborn as sns\n",
    "sns.countplot(x = df.Rating)"
   ]
  },
  {
   "cell_type": "code",
   "execution_count": 114,
   "metadata": {},
   "outputs": [
    {
     "data": {
      "text/plain": [
       "R        37\n",
       "None     24\n",
       "PG-13    18\n",
       "PG       15\n",
       "G         6\n",
       "Name: Rating, dtype: int64"
      ]
     },
     "execution_count": 114,
     "metadata": {},
     "output_type": "execute_result"
    }
   ],
   "source": [
    "df.Rating.value_counts()"
   ]
  },
  {
   "cell_type": "code",
   "execution_count": 121,
   "metadata": {},
   "outputs": [],
   "source": [
    "df.to_csv(r'D:\\Data Sets\\file.csv', index=False)"
   ]
  },
  {
   "cell_type": "code",
   "execution_count": null,
   "metadata": {},
   "outputs": [],
   "source": []
  }
 ],
 "metadata": {
  "interpreter": {
   "hash": "2db9e111d283e143f288d6d084660dab8bca4b614b8b7d9641ba2949a065d705"
  },
  "kernelspec": {
   "display_name": "Python 3.8.8 ('base')",
   "language": "python",
   "name": "python3"
  },
  "language_info": {
   "codemirror_mode": {
    "name": "ipython",
    "version": 3
   },
   "file_extension": ".py",
   "mimetype": "text/x-python",
   "name": "python",
   "nbconvert_exporter": "python",
   "pygments_lexer": "ipython3",
   "version": "3.8.8"
  },
  "orig_nbformat": 4
 },
 "nbformat": 4,
 "nbformat_minor": 2
}
