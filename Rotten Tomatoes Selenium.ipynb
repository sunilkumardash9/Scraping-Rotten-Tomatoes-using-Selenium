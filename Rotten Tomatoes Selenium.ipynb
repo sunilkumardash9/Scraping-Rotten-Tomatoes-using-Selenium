{
 "cells": [
  {
   "cell_type": "markdown",
   "metadata": {},
   "source": [
    "Scraping Rotten Tomatoes top 100 movies of all time page"
   ]
  },
  {
   "cell_type": "code",
   "execution_count": 1,
   "metadata": {},
   "outputs": [],
   "source": [
    "import pandas as pd\n",
    "import numpy as np\n",
    "from selenium import webdriver\n",
    "#from selenium.webdriver.common.keys import Keys\n",
    "from webdriver_manager.chrome import ChromeDriverManager\n",
    "from selenium.webdriver.common.by import By"
   ]
  },
  {
   "cell_type": "code",
   "execution_count": 2,
   "metadata": {},
   "outputs": [
    {
     "name": "stderr",
     "output_type": "stream",
     "text": [
      "<ipython-input-2-ce01065e71ea>:1: DeprecationWarning: executable_path has been deprecated, please pass in a Service object\n",
      "  driver = webdriver.Chrome('D:/seleniumpython/chromedriver')\n"
     ]
    }
   ],
   "source": [
    "driver = webdriver.Chrome('D:/seleniumpython/chromedriver')"
   ]
  },
  {
   "cell_type": "code",
   "execution_count": 4,
   "metadata": {},
   "outputs": [],
   "source": [
    "driver.get('https://www.rottentomatoes.com/top/bestofrt/')"
   ]
  },
  {
   "cell_type": "code",
   "execution_count": 9,
   "metadata": {},
   "outputs": [],
   "source": [
    "from PIL import Image\n",
    "driver.save_screenshot('C:\\\\Users\\sunil\\OneDrive\\Pictures/Screenshots/foo.png')\n",
    "screenshot = Image.open('ss.png')\n",
    "screenshot.show()"
   ]
  },
  {
   "cell_type": "markdown",
   "metadata": {},
   "source": [
    "Access each movie page to scrape data"
   ]
  },
  {
   "cell_type": "code",
   "execution_count": null,
   "metadata": {},
   "outputs": [],
   "source": [
    "#df_copy = df.copy() #legit\n",
    "#for movies in movie_list:\n",
    "#    \n",
    "#    url = 'https://www.rottentomatoes.com/m/'+movies\n",
    "#    #try:\n",
    "#    driver.get(url)\n",
    "#    if driver.find_elements(By.XPATH,'//div[@style = \"padding: 15px 0;\"]//h1')[0].text == '404 - Not Found':\n",
    "#        continue\n",
    "#    else:\n",
    "#        webelement_list_val = []\n",
    "#        webelement_list_key = []\n",
    "#        webelement_list_val = driver.find_elements(By.XPATH,'//dic[@class=\"meta-value\"]')\n",
    "#        webelement_list_key = driver.find_elements(By.XPATH,'//dic[@class=\"meta-label subtle\"]')\n",
    "#        \n",
    "#        key_list, val_list = [],[]\n",
    "#        for k,v in zip(webelement_list_key, webelement_list_val):\n",
    "#            key_list.append(k.text)\n",
    "#            val_list.append(val_list)\n",
    "#            \n",
    "#        key_genre = driver.find_elements(By.XPATH,'//dic[@class=\"meta-value genre\"]')[0].text\n",
    "#        genre = driver.find_elements(By.XPATH,'//dic[@class=\"meta-value genre\"]')[0].text\n",
    "#        folder.insert(1,genre)\n",
    "#    \n",
    "    \n",
    "\n",
    "    #except:\n"
   ]
  },
  {
   "cell_type": "code",
   "execution_count": 195,
   "metadata": {},
   "outputs": [],
   "source": [
    "#driver.get('https://www.rottentomatoes.com/m/1003707-casablanca')\n",
    "#webelement_list_val = []\n",
    "#webelement_list_key = []\n",
    "#\n",
    "#\n",
    "#webelement_list_key = driver.find_elements(By.XPATH,'//div[@data-qa=\"movie-info-item-label\"]')\n",
    "#webelement_list_val = driver.find_elements(By.XPATH,'//div[@data-qa=\"movie-info-item-value\"]')\n",
    "#key_list, val_list = [],[]\n",
    "#for k,v in zip(webelement_list_key, webelement_list_val):\n",
    "#    key_list.append(k.text.strip(':'))\n",
    "#    val_list.append(v.text)"
   ]
  },
  {
   "cell_type": "code",
   "execution_count": 160,
   "metadata": {},
   "outputs": [
    {
     "data": {
      "text/plain": [
       "{'Genre': 'Comedy, Romance',\n",
       " 'Original Language': 'English',\n",
       " 'Director': 'Frank Capra',\n",
       " 'Producer': 'Frank Capra, Harry Cohn',\n",
       " 'Writer': 'Samuel Hopkins Adams, Robert Riskin',\n",
       " 'Release Date (Theaters)': 'Feb 22, 1934  Original',\n",
       " 'Release Date (Streaming)': 'Dec 28, 1999',\n",
       " 'Runtime': '1h 45m',\n",
       " 'Distributor': 'Columbia Pictures, Columbia TriStar Home Video, RCA/Columbia',\n",
       " 'Sound Mix': 'Mono',\n",
       " 'Aspect Ratio': '35mm, Flat (1.37:1)'}"
      ]
     },
     "execution_count": 160,
     "metadata": {},
     "output_type": "execute_result"
    }
   ],
   "source": [
    "#info2 = dict(zip(key_list,val_list))\n",
    "#info2"
   ]
  },
  {
   "cell_type": "code",
   "execution_count": 165,
   "metadata": {},
   "outputs": [
    {
     "data": {
      "text/plain": [
       "dict_keys(['Rating', 'Genre', 'Original Language', 'Director', 'Producer', 'Writer', 'Release Date (Theaters)', 'Release Date (Streaming)', 'Box Office (Gross USA)', 'Runtime', 'Distributor', 'Sound Mix', 'Aspect Ratio', 'View the collection'])"
      ]
     },
     "execution_count": 165,
     "metadata": {},
     "output_type": "execute_result"
    }
   ],
   "source": [
    "#info1 = dict(zip(key_list,val_list))\n",
    "#info1.keys()"
   ]
  },
  {
   "cell_type": "markdown",
   "metadata": {},
   "source": [
    "Get the individual links of movies "
   ]
  },
  {
   "cell_type": "code",
   "execution_count": 5,
   "metadata": {},
   "outputs": [
    {
     "data": {
      "text/plain": [
       "['https://www.rottentomatoes.com/m/it_happened_one_night',\n",
       " 'https://www.rottentomatoes.com/m/citizen_kane',\n",
       " 'https://www.rottentomatoes.com/m/the_wizard_of_oz_1939',\n",
       " 'https://www.rottentomatoes.com/m/modern_times',\n",
       " 'https://www.rottentomatoes.com/m/black_panther_2018']"
      ]
     },
     "execution_count": 5,
     "metadata": {},
     "output_type": "execute_result"
    }
   ],
   "source": [
    "#driver.get('https://www.rottentomatoes.com/top/bestofrt/1003707-casablanca')\n",
    "movie_we = driver.find_elements(By.XPATH, '//td//a[@class = \"unstyled articleLink\"]')\n",
    "links = []\n",
    "for i in range(len(movie_we)):  \n",
    "    links.append(movie_we[i].get_attribute('href'))\n",
    "links[:5]"
   ]
  },
  {
   "cell_type": "code",
   "execution_count": null,
   "metadata": {},
   "outputs": [],
   "source": [
    "driver.get('https://www.rottentomatoes.com/m/')\n",
    "webelement_list_val = []\n",
    "webelement_list_key = []\n",
    "movie_info = []\n",
    "info_we = driver.find_elements(By.XPATH,'//score-board')\n",
    "\n",
    "webelement_list_key = driver.find_elements(By.XPATH,'//div[@data-qa=\"movie-info-item-label\"]')\n",
    "webelement_list_val = driver.find_elements(By.XPATH,'//div[@data-qa=\"movie-info-item-value\"]')\n",
    "key_list, val_list = [],[]\n",
    "for k,v in zip(webelement_list_key, webelement_list_val):\n",
    "    key_list.append(k.text.strip(':'))\n",
    "    val_list.append(v.text)"
   ]
  },
  {
   "cell_type": "code",
   "execution_count": 21,
   "metadata": {},
   "outputs": [
    {
     "data": {
      "text/plain": [
       "'THE BATTLE OF ALGIERS\\n1966, Drama/History, 2h 5m\\n99%\\nTOMATOMETER\\n89 Reviews\\n95%\\nAUDIENCE SCORE\\n10,000+ Ratings'"
      ]
     },
     "execution_count": 21,
     "metadata": {},
     "output_type": "execute_result"
    }
   ],
   "source": [
    "info_we1 = driver.find_elements(By.XPATH,'//score-board')\n",
    "info_we1[0].text"
   ]
  },
  {
   "cell_type": "code",
   "execution_count": 8,
   "metadata": {},
   "outputs": [
    {
     "name": "stderr",
     "output_type": "stream",
     "text": [
      "loading....: 100%|██████████| 100/100 [11:15<00:00,  6.75s/it]\n"
     ]
    }
   ],
   "source": [
    "#create dataframe\n",
    "dta = pd.DataFrame(columns=['Movie Name', 'Audience Score', 'Tomatometer Score', 'Rating', 'Genre',\n",
    "                            'Original Language', 'Director', 'Producer', 'Writer', 'Release Date (Theaters)',\n",
    "                           'Release Date (Streaming)', 'Box Office (Gross USA)', 'Runtime', 'Distributor',\n",
    "                            'Sound Mix', 'Aspect Ratio', 'View the collection'])\n",
    "from tqdm import tqdm\n",
    "for link in tqdm(links, desc='loading....'):\n",
    "    driver.get(link)\n",
    "    info_we = driver.find_elements(By.XPATH,'//score-board')\n",
    "    #create attribute distionary\n",
    "    movie_info = {'Movie Name':'','Audience Score':'','Tomatometer Score':''}\n",
    "    movie_info['Movie Name'] = info_we[0].text.split('\\n')[0]\n",
    "    movie_info['Audience Score'] = info_we[0].get_attribute('audiencescore')\n",
    "    movie_info['Tomatometer Score'] = info_we[0].get_attribute('tomatometerscore')\n",
    "    webelement_list_val = []\n",
    "    webelement_list_key = []\n",
    "    webelement_list_key = driver.find_elements(By.XPATH,'//div[@data-qa=\"movie-info-item-label\"]')\n",
    "    webelement_list_val = driver.find_elements(By.XPATH,'//div[@data-qa=\"movie-info-item-value\"]')\n",
    "    key_list, val_list = [],[]\n",
    "    for k,v in zip(webelement_list_key, webelement_list_val):\n",
    "        key_list.append(k.text.strip(':'))\n",
    "        val_list.append(v.text)\n",
    "    info = dict(zip(key_list,val_list))\n",
    "    total_info = {**movie_info,**info} \n",
    "    dta = dta.append(total_info, ignore_index=True)\n",
    "     #append movie info dictionary"
   ]
  },
  {
   "cell_type": "code",
   "execution_count": 9,
   "metadata": {},
   "outputs": [
    {
     "data": {
      "text/html": [
       "<div>\n",
       "<style scoped>\n",
       "    .dataframe tbody tr th:only-of-type {\n",
       "        vertical-align: middle;\n",
       "    }\n",
       "\n",
       "    .dataframe tbody tr th {\n",
       "        vertical-align: top;\n",
       "    }\n",
       "\n",
       "    .dataframe thead th {\n",
       "        text-align: right;\n",
       "    }\n",
       "</style>\n",
       "<table border=\"1\" class=\"dataframe\">\n",
       "  <thead>\n",
       "    <tr style=\"text-align: right;\">\n",
       "      <th></th>\n",
       "      <th>Movie Name</th>\n",
       "      <th>Audience Score</th>\n",
       "      <th>Tomatometer Score</th>\n",
       "      <th>Rating</th>\n",
       "      <th>Genre</th>\n",
       "      <th>Original Language</th>\n",
       "      <th>Director</th>\n",
       "      <th>Producer</th>\n",
       "      <th>Writer</th>\n",
       "      <th>Release Date (Theaters)</th>\n",
       "      <th>Release Date (Streaming)</th>\n",
       "      <th>Box Office (Gross USA)</th>\n",
       "      <th>Runtime</th>\n",
       "      <th>Distributor</th>\n",
       "      <th>Sound Mix</th>\n",
       "      <th>Aspect Ratio</th>\n",
       "      <th>View the collection</th>\n",
       "    </tr>\n",
       "  </thead>\n",
       "  <tbody>\n",
       "    <tr>\n",
       "      <th>0</th>\n",
       "      <td>IT HAPPENED ONE NIGHT</td>\n",
       "      <td>93</td>\n",
       "      <td>99</td>\n",
       "      <td>NaN</td>\n",
       "      <td>Comedy, Romance</td>\n",
       "      <td>English</td>\n",
       "      <td>Frank Capra</td>\n",
       "      <td>Frank Capra, Harry Cohn</td>\n",
       "      <td>Samuel Hopkins Adams, Robert Riskin</td>\n",
       "      <td>Feb 22, 1934  Original</td>\n",
       "      <td>Dec 28, 1999</td>\n",
       "      <td>NaN</td>\n",
       "      <td>1h 45m</td>\n",
       "      <td>Columbia Pictures, Columbia TriStar Home Video...</td>\n",
       "      <td>Mono</td>\n",
       "      <td>35mm, Flat (1.37:1)</td>\n",
       "      <td>NaN</td>\n",
       "    </tr>\n",
       "    <tr>\n",
       "      <th>1</th>\n",
       "      <td>CITIZEN KANE</td>\n",
       "      <td>90</td>\n",
       "      <td>99</td>\n",
       "      <td>PG</td>\n",
       "      <td>Drama</td>\n",
       "      <td>English</td>\n",
       "      <td>Orson Welles</td>\n",
       "      <td>Orson Welles</td>\n",
       "      <td>Herman J. Mankiewicz, Orson Welles, John Houseman</td>\n",
       "      <td>May 1, 1941  Wide</td>\n",
       "      <td>Feb 23, 2010</td>\n",
       "      <td>$977.3K</td>\n",
       "      <td>1h 59m</td>\n",
       "      <td>RKO Radio Pictures</td>\n",
       "      <td>Mono</td>\n",
       "      <td>Academy (1.33:1)</td>\n",
       "      <td>NaN</td>\n",
       "    </tr>\n",
       "    <tr>\n",
       "      <th>2</th>\n",
       "      <td>THE WIZARD OF OZ</td>\n",
       "      <td>89</td>\n",
       "      <td>98</td>\n",
       "      <td>G</td>\n",
       "      <td>Fantasy, Musical</td>\n",
       "      <td>English</td>\n",
       "      <td>Victor Fleming</td>\n",
       "      <td>Victor Fleming, Mervyn LeRoy</td>\n",
       "      <td>L. Frank Baum, Noel Langley, Florence Ryerson,...</td>\n",
       "      <td>Aug 25, 1939  Wide</td>\n",
       "      <td>Aug 12, 2003</td>\n",
       "      <td>$5.5M</td>\n",
       "      <td>1h 41m</td>\n",
       "      <td>Metro-Goldwyn-Mayer</td>\n",
       "      <td>Mono</td>\n",
       "      <td>Flat (1.37:1)</td>\n",
       "      <td>NaN</td>\n",
       "    </tr>\n",
       "    <tr>\n",
       "      <th>3</th>\n",
       "      <td>MODERN TIMES</td>\n",
       "      <td>95</td>\n",
       "      <td>98</td>\n",
       "      <td>G</td>\n",
       "      <td>Comedy</td>\n",
       "      <td>English</td>\n",
       "      <td>Charlie Chaplin</td>\n",
       "      <td>Charlie Chaplin</td>\n",
       "      <td>Charlie Chaplin</td>\n",
       "      <td>Feb 5, 1936  Wide</td>\n",
       "      <td>Nov 16, 2010</td>\n",
       "      <td>$163.2K</td>\n",
       "      <td>1h 29m</td>\n",
       "      <td>United Artists</td>\n",
       "      <td>Mono</td>\n",
       "      <td>Flat (1.37:1)</td>\n",
       "      <td>NaN</td>\n",
       "    </tr>\n",
       "    <tr>\n",
       "      <th>4</th>\n",
       "      <td>BLACK PANTHER</td>\n",
       "      <td>79</td>\n",
       "      <td>96</td>\n",
       "      <td>PG-13 (Sequences of Action Violence|A Brief Ru...</td>\n",
       "      <td>Fantasy, Adventure, Action</td>\n",
       "      <td>English</td>\n",
       "      <td>Ryan Coogler</td>\n",
       "      <td>Kevin Feige</td>\n",
       "      <td>Ryan Coogler, Joe Robert Cole</td>\n",
       "      <td>Feb 16, 2018  Wide</td>\n",
       "      <td>May 2, 2018</td>\n",
       "      <td>$700.2M</td>\n",
       "      <td>2h 14m</td>\n",
       "      <td>Walt Disney</td>\n",
       "      <td>DTS, Dolby Atmos</td>\n",
       "      <td>Scope (2.35:1)</td>\n",
       "      <td>Marvel Cinematic Universe</td>\n",
       "    </tr>\n",
       "  </tbody>\n",
       "</table>\n",
       "</div>"
      ],
      "text/plain": [
       "              Movie Name Audience Score Tomatometer Score  \\\n",
       "0  IT HAPPENED ONE NIGHT             93                99   \n",
       "1           CITIZEN KANE             90                99   \n",
       "2       THE WIZARD OF OZ             89                98   \n",
       "3           MODERN TIMES             95                98   \n",
       "4          BLACK PANTHER             79                96   \n",
       "\n",
       "                                              Rating  \\\n",
       "0                                                NaN   \n",
       "1                                                 PG   \n",
       "2                                                  G   \n",
       "3                                                  G   \n",
       "4  PG-13 (Sequences of Action Violence|A Brief Ru...   \n",
       "\n",
       "                        Genre Original Language         Director  \\\n",
       "0             Comedy, Romance           English      Frank Capra   \n",
       "1                       Drama           English     Orson Welles   \n",
       "2            Fantasy, Musical           English   Victor Fleming   \n",
       "3                      Comedy           English  Charlie Chaplin   \n",
       "4  Fantasy, Adventure, Action           English     Ryan Coogler   \n",
       "\n",
       "                       Producer  \\\n",
       "0       Frank Capra, Harry Cohn   \n",
       "1                  Orson Welles   \n",
       "2  Victor Fleming, Mervyn LeRoy   \n",
       "3               Charlie Chaplin   \n",
       "4                   Kevin Feige   \n",
       "\n",
       "                                              Writer Release Date (Theaters)  \\\n",
       "0                Samuel Hopkins Adams, Robert Riskin  Feb 22, 1934  Original   \n",
       "1  Herman J. Mankiewicz, Orson Welles, John Houseman       May 1, 1941  Wide   \n",
       "2  L. Frank Baum, Noel Langley, Florence Ryerson,...      Aug 25, 1939  Wide   \n",
       "3                                    Charlie Chaplin       Feb 5, 1936  Wide   \n",
       "4                      Ryan Coogler, Joe Robert Cole      Feb 16, 2018  Wide   \n",
       "\n",
       "  Release Date (Streaming) Box Office (Gross USA) Runtime  \\\n",
       "0             Dec 28, 1999                    NaN  1h 45m   \n",
       "1             Feb 23, 2010                $977.3K  1h 59m   \n",
       "2             Aug 12, 2003                  $5.5M  1h 41m   \n",
       "3             Nov 16, 2010                $163.2K  1h 29m   \n",
       "4              May 2, 2018                $700.2M  2h 14m   \n",
       "\n",
       "                                         Distributor         Sound Mix  \\\n",
       "0  Columbia Pictures, Columbia TriStar Home Video...              Mono   \n",
       "1                                 RKO Radio Pictures              Mono   \n",
       "2                                Metro-Goldwyn-Mayer              Mono   \n",
       "3                                     United Artists              Mono   \n",
       "4                                        Walt Disney  DTS, Dolby Atmos   \n",
       "\n",
       "          Aspect Ratio        View the collection  \n",
       "0  35mm, Flat (1.37:1)                        NaN  \n",
       "1     Academy (1.33:1)                        NaN  \n",
       "2        Flat (1.37:1)                        NaN  \n",
       "3        Flat (1.37:1)                        NaN  \n",
       "4       Scope (2.35:1)  Marvel Cinematic Universe  "
      ]
     },
     "execution_count": 9,
     "metadata": {},
     "output_type": "execute_result"
    }
   ],
   "source": [
    "dta.head()"
   ]
  },
  {
   "cell_type": "code",
   "execution_count": 11,
   "metadata": {},
   "outputs": [
    {
     "name": "stdout",
     "output_type": "stream",
     "text": [
      "<class 'pandas.core.frame.DataFrame'>\n",
      "RangeIndex: 100 entries, 0 to 99\n",
      "Data columns (total 17 columns):\n",
      " #   Column                    Non-Null Count  Dtype         \n",
      "---  ------                    --------------  -----         \n",
      " 0   Movie Name                100 non-null    object        \n",
      " 1   Audience Score            100 non-null    object        \n",
      " 2   Tomatometer Score         100 non-null    object        \n",
      " 3   Rating                    76 non-null     object        \n",
      " 4   Genre                     100 non-null    object        \n",
      " 5   Original Language         100 non-null    object        \n",
      " 6   Director                  100 non-null    object        \n",
      " 7   Producer                  98 non-null     object        \n",
      " 8   Writer                    97 non-null     object        \n",
      " 9   Release Date (Theaters)   98 non-null     object        \n",
      " 10  Release Date (Streaming)  100 non-null    datetime64[ns]\n",
      " 11  Box Office (Gross USA)    68 non-null     object        \n",
      " 12  Runtime                   100 non-null    object        \n",
      " 13  Distributor               95 non-null     object        \n",
      " 14  Sound Mix                 75 non-null     object        \n",
      " 15  Aspect Ratio              74 non-null     object        \n",
      " 16  View the collection       16 non-null     object        \n",
      "dtypes: datetime64[ns](1), object(16)\n",
      "memory usage: 13.4+ KB\n"
     ]
    }
   ],
   "source": [
    "dta.info()"
   ]
  },
  {
   "cell_type": "code",
   "execution_count": 103,
   "metadata": {},
   "outputs": [],
   "source": [
    "df = dta.copy()"
   ]
  },
  {
   "cell_type": "markdown",
   "metadata": {},
   "source": [
    "Data Cleaning"
   ]
  },
  {
   "cell_type": "code",
   "execution_count": 104,
   "metadata": {},
   "outputs": [
    {
     "name": "stdout",
     "output_type": "stream",
     "text": [
      "Tomatometer Score    int32\n",
      "Audience Score       int32\n",
      "dtype: object\n"
     ]
    }
   ],
   "source": [
    "#chaanging datatype from str to int\n",
    "df[['Tomatometer Score','Audience Score']]=df[['Tomatometer Score','Audience Score']].astype(int)\n",
    "print(df[['Tomatometer Score','Audience Score']].dtypes)"
   ]
  },
  {
   "cell_type": "markdown",
   "metadata": {},
   "source": [
    "Changing datatype from str to datetime"
   ]
  },
  {
   "cell_type": "code",
   "execution_count": 105,
   "metadata": {},
   "outputs": [
    {
     "name": "stdout",
     "output_type": "stream",
     "text": [
      "0   1999-12-28\n",
      "1   2010-02-23\n",
      "2   2003-08-12\n",
      "3   2010-11-16\n",
      "4   2018-05-02\n",
      "Name: Release Date (Streaming), dtype: datetime64[ns]\n"
     ]
    }
   ],
   "source": [
    "df['Release Date (Streaming)'] = pd.to_datetime(df['Release Date (Streaming)'])\n",
    "print(df['Release Date (Streaming)'].head())"
   ]
  },
  {
   "cell_type": "code",
   "execution_count": 107,
   "metadata": {},
   "outputs": [],
   "source": [
    "#function to clean individual observations\n",
    "def func(x):\n",
    "    if type(x) != float:\n",
    "        li = x.split(' ')\n",
    "        li.remove(li[-1])\n",
    "        time = ' '.join(li).replace(',','')\n",
    "        return time\n",
    "df['Release Date (Theaters)'] = df['Release Date (Theaters)'].apply(func)\n",
    "df['Release Date (Theaters)'] = pd.to_datetime(df['Release Date (Theaters)'])"
   ]
  },
  {
   "cell_type": "code",
   "execution_count": 110,
   "metadata": {},
   "outputs": [
    {
     "data": {
      "text/html": [
       "<div>\n",
       "<style scoped>\n",
       "    .dataframe tbody tr th:only-of-type {\n",
       "        vertical-align: middle;\n",
       "    }\n",
       "\n",
       "    .dataframe tbody tr th {\n",
       "        vertical-align: top;\n",
       "    }\n",
       "\n",
       "    .dataframe thead th {\n",
       "        text-align: right;\n",
       "    }\n",
       "</style>\n",
       "<table border=\"1\" class=\"dataframe\">\n",
       "  <thead>\n",
       "    <tr style=\"text-align: right;\">\n",
       "      <th></th>\n",
       "      <th>Movie Name</th>\n",
       "      <th>Audience Score</th>\n",
       "      <th>Tomatometer Score</th>\n",
       "      <th>Rating</th>\n",
       "      <th>Genre</th>\n",
       "      <th>Original Language</th>\n",
       "      <th>Director</th>\n",
       "      <th>Producer</th>\n",
       "      <th>Writer</th>\n",
       "      <th>Release Date (Theaters)</th>\n",
       "      <th>Release Date (Streaming)</th>\n",
       "      <th>Box Office (Gross USA)</th>\n",
       "      <th>Runtime</th>\n",
       "      <th>Distributor</th>\n",
       "      <th>Sound Mix</th>\n",
       "      <th>Aspect Ratio</th>\n",
       "      <th>View the collection</th>\n",
       "    </tr>\n",
       "  </thead>\n",
       "  <tbody>\n",
       "    <tr>\n",
       "      <th>0</th>\n",
       "      <td>IT HAPPENED ONE NIGHT</td>\n",
       "      <td>93</td>\n",
       "      <td>99</td>\n",
       "      <td>None</td>\n",
       "      <td>Comedy, Romance</td>\n",
       "      <td>English</td>\n",
       "      <td>Frank Capra</td>\n",
       "      <td>Frank Capra, Harry Cohn</td>\n",
       "      <td>Samuel Hopkins Adams, Robert Riskin</td>\n",
       "      <td>1934-02-22</td>\n",
       "      <td>1999-12-28</td>\n",
       "      <td>NaN</td>\n",
       "      <td>1h 45m</td>\n",
       "      <td>Columbia Pictures, Columbia TriStar Home Video...</td>\n",
       "      <td>Mono</td>\n",
       "      <td>35mm, Flat (1.37:1)</td>\n",
       "      <td>NaN</td>\n",
       "    </tr>\n",
       "    <tr>\n",
       "      <th>1</th>\n",
       "      <td>CITIZEN KANE</td>\n",
       "      <td>90</td>\n",
       "      <td>99</td>\n",
       "      <td>PG</td>\n",
       "      <td>Drama</td>\n",
       "      <td>English</td>\n",
       "      <td>Orson Welles</td>\n",
       "      <td>Orson Welles</td>\n",
       "      <td>Herman J. Mankiewicz, Orson Welles, John Houseman</td>\n",
       "      <td>1941-05-01</td>\n",
       "      <td>2010-02-23</td>\n",
       "      <td>$977.3K</td>\n",
       "      <td>1h 59m</td>\n",
       "      <td>RKO Radio Pictures</td>\n",
       "      <td>Mono</td>\n",
       "      <td>Academy (1.33:1)</td>\n",
       "      <td>NaN</td>\n",
       "    </tr>\n",
       "    <tr>\n",
       "      <th>2</th>\n",
       "      <td>THE WIZARD OF OZ</td>\n",
       "      <td>89</td>\n",
       "      <td>98</td>\n",
       "      <td>G</td>\n",
       "      <td>Fantasy, Musical</td>\n",
       "      <td>English</td>\n",
       "      <td>Victor Fleming</td>\n",
       "      <td>Victor Fleming, Mervyn LeRoy</td>\n",
       "      <td>L. Frank Baum, Noel Langley, Florence Ryerson,...</td>\n",
       "      <td>1939-08-25</td>\n",
       "      <td>2003-08-12</td>\n",
       "      <td>$5.5M</td>\n",
       "      <td>1h 41m</td>\n",
       "      <td>Metro-Goldwyn-Mayer</td>\n",
       "      <td>Mono</td>\n",
       "      <td>Flat (1.37:1)</td>\n",
       "      <td>NaN</td>\n",
       "    </tr>\n",
       "    <tr>\n",
       "      <th>3</th>\n",
       "      <td>MODERN TIMES</td>\n",
       "      <td>95</td>\n",
       "      <td>98</td>\n",
       "      <td>G</td>\n",
       "      <td>Comedy</td>\n",
       "      <td>English</td>\n",
       "      <td>Charlie Chaplin</td>\n",
       "      <td>Charlie Chaplin</td>\n",
       "      <td>Charlie Chaplin</td>\n",
       "      <td>1936-02-05</td>\n",
       "      <td>2010-11-16</td>\n",
       "      <td>$163.2K</td>\n",
       "      <td>1h 29m</td>\n",
       "      <td>United Artists</td>\n",
       "      <td>Mono</td>\n",
       "      <td>Flat (1.37:1)</td>\n",
       "      <td>NaN</td>\n",
       "    </tr>\n",
       "    <tr>\n",
       "      <th>4</th>\n",
       "      <td>BLACK PANTHER</td>\n",
       "      <td>79</td>\n",
       "      <td>96</td>\n",
       "      <td>PG-13</td>\n",
       "      <td>Fantasy, Adventure, Action</td>\n",
       "      <td>English</td>\n",
       "      <td>Ryan Coogler</td>\n",
       "      <td>Kevin Feige</td>\n",
       "      <td>Ryan Coogler, Joe Robert Cole</td>\n",
       "      <td>2018-02-16</td>\n",
       "      <td>2018-05-02</td>\n",
       "      <td>$700.2M</td>\n",
       "      <td>2h 14m</td>\n",
       "      <td>Walt Disney</td>\n",
       "      <td>DTS, Dolby Atmos</td>\n",
       "      <td>Scope (2.35:1)</td>\n",
       "      <td>Marvel Cinematic Universe</td>\n",
       "    </tr>\n",
       "  </tbody>\n",
       "</table>\n",
       "</div>"
      ],
      "text/plain": [
       "              Movie Name  Audience Score  Tomatometer Score Rating  \\\n",
       "0  IT HAPPENED ONE NIGHT              93                 99   None   \n",
       "1           CITIZEN KANE              90                 99     PG   \n",
       "2       THE WIZARD OF OZ              89                 98      G   \n",
       "3           MODERN TIMES              95                 98      G   \n",
       "4          BLACK PANTHER              79                 96  PG-13   \n",
       "\n",
       "                        Genre Original Language         Director  \\\n",
       "0             Comedy, Romance           English      Frank Capra   \n",
       "1                       Drama           English     Orson Welles   \n",
       "2            Fantasy, Musical           English   Victor Fleming   \n",
       "3                      Comedy           English  Charlie Chaplin   \n",
       "4  Fantasy, Adventure, Action           English     Ryan Coogler   \n",
       "\n",
       "                       Producer  \\\n",
       "0       Frank Capra, Harry Cohn   \n",
       "1                  Orson Welles   \n",
       "2  Victor Fleming, Mervyn LeRoy   \n",
       "3               Charlie Chaplin   \n",
       "4                   Kevin Feige   \n",
       "\n",
       "                                              Writer Release Date (Theaters)  \\\n",
       "0                Samuel Hopkins Adams, Robert Riskin              1934-02-22   \n",
       "1  Herman J. Mankiewicz, Orson Welles, John Houseman              1941-05-01   \n",
       "2  L. Frank Baum, Noel Langley, Florence Ryerson,...              1939-08-25   \n",
       "3                                    Charlie Chaplin              1936-02-05   \n",
       "4                      Ryan Coogler, Joe Robert Cole              2018-02-16   \n",
       "\n",
       "  Release Date (Streaming) Box Office (Gross USA) Runtime  \\\n",
       "0               1999-12-28                    NaN  1h 45m   \n",
       "1               2010-02-23                $977.3K  1h 59m   \n",
       "2               2003-08-12                  $5.5M  1h 41m   \n",
       "3               2010-11-16                $163.2K  1h 29m   \n",
       "4               2018-05-02                $700.2M  2h 14m   \n",
       "\n",
       "                                         Distributor         Sound Mix  \\\n",
       "0  Columbia Pictures, Columbia TriStar Home Video...              Mono   \n",
       "1                                 RKO Radio Pictures              Mono   \n",
       "2                                Metro-Goldwyn-Mayer              Mono   \n",
       "3                                     United Artists              Mono   \n",
       "4                                        Walt Disney  DTS, Dolby Atmos   \n",
       "\n",
       "          Aspect Ratio        View the collection  \n",
       "0  35mm, Flat (1.37:1)                        NaN  \n",
       "1     Academy (1.33:1)                        NaN  \n",
       "2        Flat (1.37:1)                        NaN  \n",
       "3        Flat (1.37:1)                        NaN  \n",
       "4       Scope (2.35:1)  Marvel Cinematic Universe  "
      ]
     },
     "execution_count": 110,
     "metadata": {},
     "output_type": "execute_result"
    }
   ],
   "source": [
    "df.head()"
   ]
  },
  {
   "cell_type": "code",
   "execution_count": 108,
   "metadata": {},
   "outputs": [
    {
     "name": "stderr",
     "output_type": "stream",
     "text": [
      "C:\\Users\\sunil\\anaconda3\\lib\\site-packages\\pandas\\core\\indexing.py:1637: SettingWithCopyWarning: \n",
      "A value is trying to be set on a copy of a slice from a DataFrame\n",
      "\n",
      "See the caveats in the documentation: https://pandas.pydata.org/pandas-docs/stable/user_guide/indexing.html#returning-a-view-versus-a-copy\n",
      "  self._setitem_single_block(indexer, value, name)\n"
     ]
    }
   ],
   "source": [
    "df['Rating'].loc[df['Rating'].isnull()] = 'None'"
   ]
  },
  {
   "cell_type": "code",
   "execution_count": 90,
   "metadata": {},
   "outputs": [
    {
     "data": {
      "text/plain": [
       "<AxesSubplot:xlabel='Rating', ylabel='count'>"
      ]
     },
     "execution_count": 90,
     "metadata": {},
     "output_type": "execute_result"
    },
    {
     "data": {
      "image/png": "[encoded data removed]",
      "text/plain": [
       "<Figure size 432x288 with 1 Axes>"
      ]
     },
     "metadata": {
      "needs_background": "light"
     },
     "output_type": "display_data"
    }
   ],
   "source": [
    "import seaborn as sns\n",
    "sns.countplot(x = df.Rating)"
   ]
  },
  {
   "cell_type": "code",
   "execution_count": 114,
   "metadata": {},
   "outputs": [
    {
     "data": {
      "text/plain": [
       "R        37\n",
       "None     24\n",
       "PG-13    18\n",
       "PG       15\n",
       "G         6\n",
       "Name: Rating, dtype: int64"
      ]
     },
     "execution_count": 114,
     "metadata": {},
     "output_type": "execute_result"
    }
   ],
   "source": [
    "df.Rating.value_counts()"
   ]
  },
  {
   "cell_type": "markdown",
   "metadata": {},
   "source": [
    "Converting dataframe object to CSV"
   ]
  },
  {
   "cell_type": "code",
   "execution_count": 121,
   "metadata": {},
   "outputs": [],
   "source": [
    "df.to_csv(r'D:\\Data Sets\\file.csv', index=False)"
   ]
  },
  {
   "cell_type": "code",
   "execution_count": null,
   "metadata": {},
   "outputs": [],
   "source": []
  }
 ],
 "metadata": {
  "kernelspec": {
   "display_name": "Python 3.8.8 ('base')",
   "language": "python",
   "name": "python3"
  },
  "language_info": {
   "codemirror_mode": {
    "name": "ipython",
    "version": 3
   },
   "file_extension": ".py",
   "mimetype": "text/x-python",
   "name": "python",
   "nbconvert_exporter": "python",
   "pygments_lexer": "ipython3",
   "version": "3.8.8"
  },
  "orig_nbformat": 4,
  "vscode": {
   "interpreter": {
    "hash": "4acaa4cadfbea252319417d011d4c2a64c0b873a89b23df257bc8dc3b3c6ce19"
   }
  }
 },
 "nbformat": 4,
 "nbformat_minor": 2
}
